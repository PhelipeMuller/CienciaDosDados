{
 "cells": [
  {
   "cell_type": "markdown",
   "metadata": {},
   "source": [
    "___\n",
    "# Ciencia dos Dados - Projeto 1\n",
    "\n",
    "\n",
    "\n",
    "\n",
    "## Phelipe Müller\n",
    "___"
   ]
  },
  {
   "cell_type": "markdown",
   "metadata": {},
   "source": [
    " # Televisão vs. Internet"
   ]
  },
  {
   "cell_type": "markdown",
   "metadata": {},
   "source": [
    "___\n",
    "Neste projeto vamos analisar quanto o espaço de mercadado da Televisão, principalmente o sinal por assinatura, está sendo consumido pela Internet.\n",
    "\n",
    "Para isso vamos presumir que quanto melhor a qualidade do sinal de Internet mais o usuario consome e o mesmo é valido para a qualidade do sinal de TV.\n",
    "\n",
    "Vamos começar analisando os dados da região Sudeste do Pais\n",
    "___"
   ]
  },
  {
   "cell_type": "code",
   "execution_count": 270,
   "metadata": {
    "collapsed": true
   },
   "outputs": [],
   "source": [
    "%matplotlib inline\n",
    "import pandas as pd\n",
    "import matplotlib.pyplot as plt\n",
    "import os"
   ]
  },
  {
   "cell_type": "code",
   "execution_count": 271,
   "metadata": {
    "collapsed": true
   },
   "outputs": [],
   "source": [
    "dados = pd.read_csv('DOM2015.csv')"
   ]
  },
  {
   "cell_type": "code",
   "execution_count": 272,
   "metadata": {
    "collapsed": true
   },
   "outputs": [],
   "source": [
    "dados1 = dados[((dados.UF<=35) & (dados.UF>= 31)) & ( (dados.V02272 > 0) | ((dados.V02273 == 1)| (dados.V02273 == 3)) | (dados.V02274 > 0)) & (((dados.V02424==1)|(dados.V02274 == 3)) | (dados.V02425 > 0) | (dados.V02426 > 0))]\n",
    "#dados (Região Sudeste & Que possua qualquer tipo de sinal de TV & Que possual qualquer tipo de sinal de Internet)"
   ]
  },
  {
   "cell_type": "code",
   "execution_count": 273,
   "metadata": {
    "collapsed": true,
    "scrolled": true
   },
   "outputs": [],
   "source": [
    "dados2 = dados1[[\"UF\",\"V02272\",\"V02273\",\"V02274\",\"V02424\",\"V02425\",\"V02426\",\"V4622\"]]\n",
    "dados2 = dados2.dropna(how='any')\n",
    "dados3 = dados2"
   ]
  },
  {
   "cell_type": "code",
   "execution_count": 274,
   "metadata": {
    "collapsed": true
   },
   "outputs": [],
   "source": [
    "#Vamos criar duas funções que nos mostra qual é o melhor sinal que um domicilio possui para TV e para Internet\n",
    "def MelhorTV(df):\n",
    "    if (df[\"V02272\"] == 1.0): return 3\n",
    "    elif(df[\"V02274\"] == 1.0): return 2\n",
    "    elif(df[\"V02273\"] == 1.0): return 1\n",
    "    else: return 0\n",
    "    \n",
    "def MelhorNET(df):\n",
    "    if (df[\"V02425\"] == 2): return 3\n",
    "    elif(df[\"V02424\"] == 2): return 2\n",
    "    elif(df[\"V02426\"] == 2): return 1\n",
    "    else: return 0"
   ]
  },
  {
   "cell_type": "code",
   "execution_count": 275,
   "metadata": {
    "collapsed": true
   },
   "outputs": [],
   "source": [
    "TV = dados3.apply(MelhorTV,axis=1)\n",
    "NET = dados3.apply(MelhorNET,axis=1)\n",
    "\n",
    "dados3[\"TV\"] = TV\n",
    "dados3[\"NET\"] = NET"
   ]
  },
  {
   "cell_type": "code",
   "execution_count": 276,
   "metadata": {
    "scrolled": true
   },
   "outputs": [
    {
     "name": "stderr",
     "output_type": "stream",
     "text": [
      "C:\\Users\\pheli\\Anaconda3\\lib\\site-packages\\ipykernel\\__main__.py:2: SettingWithCopyWarning: \n",
      "A value is trying to be set on a copy of a slice from a DataFrame.\n",
      "Try using .loc[row_indexer,col_indexer] = value instead\n",
      "\n",
      "See the caveats in the documentation: http://pandas.pydata.org/pandas-docs/stable/indexing.html#indexing-view-versus-copy\n",
      "  from ipykernel import kernelapp as app\n",
      "C:\\Users\\pheli\\Anaconda3\\lib\\site-packages\\ipykernel\\__main__.py:3: SettingWithCopyWarning: \n",
      "A value is trying to be set on a copy of a slice from a DataFrame.\n",
      "Try using .loc[row_indexer,col_indexer] = value instead\n",
      "\n",
      "See the caveats in the documentation: http://pandas.pydata.org/pandas-docs/stable/indexing.html#indexing-view-versus-copy\n",
      "  app.launch_new_instance()\n"
     ]
    }
   ],
   "source": [
    "dadosSD = dados2[[\"UF\",\"V4622\"]]\n",
    "dadosSD[\"TV\"] = dados3[\"TV\"]\n",
    "dadosSD[\"NET\"] = dados3[\"NET\"]"
   ]
  },
  {
   "cell_type": "code",
   "execution_count": 277,
   "metadata": {},
   "outputs": [
    {
     "name": "stderr",
     "output_type": "stream",
     "text": [
      "C:\\Users\\pheli\\Anaconda3\\lib\\site-packages\\pandas\\core\\generic.py:2773: SettingWithCopyWarning: \n",
      "A value is trying to be set on a copy of a slice from a DataFrame.\n",
      "Try using .loc[row_indexer,col_indexer] = value instead\n",
      "\n",
      "See the caveats in the documentation: http://pandas.pydata.org/pandas-docs/stable/indexing.html#indexing-view-versus-copy\n",
      "  self[name] = value\n"
     ]
    }
   ],
   "source": [
    "dadosSD.NET = dadosSD.NET.astype(\"category\")\n",
    "dadosSD.TV = dadosSD.TV.astype(\"category\")\n",
    "\n",
    "dadosSD.NET.cat.categories=([\"Discada\",\"3G/4G\",\"Banda Larga\"])\n",
    "dadosSD.TV.cat.categories=(\"Sem Sinal\", \"Aberta\", \"Antena\", \"Assinatura\")"
   ]
  },
  {
   "cell_type": "code",
   "execution_count": 278,
   "metadata": {},
   "outputs": [
    {
     "data": {
      "text/html": [
       "<div>\n",
       "<table border=\"1\" class=\"dataframe\">\n",
       "  <thead>\n",
       "    <tr style=\"text-align: right;\">\n",
       "      <th>NET</th>\n",
       "      <th>Discada</th>\n",
       "      <th>3G/4G</th>\n",
       "      <th>Banda Larga</th>\n",
       "    </tr>\n",
       "    <tr>\n",
       "      <th>TV</th>\n",
       "      <th></th>\n",
       "      <th></th>\n",
       "      <th></th>\n",
       "    </tr>\n",
       "  </thead>\n",
       "  <tbody>\n",
       "    <tr>\n",
       "      <th>Sem Sinal</th>\n",
       "      <td>0.25</td>\n",
       "      <td>0.71</td>\n",
       "      <td>0.03</td>\n",
       "    </tr>\n",
       "    <tr>\n",
       "      <th>Aberta</th>\n",
       "      <td>0.23</td>\n",
       "      <td>0.73</td>\n",
       "      <td>0.04</td>\n",
       "    </tr>\n",
       "    <tr>\n",
       "      <th>Antena</th>\n",
       "      <td>0.31</td>\n",
       "      <td>0.65</td>\n",
       "      <td>0.04</td>\n",
       "    </tr>\n",
       "    <tr>\n",
       "      <th>Assinatura</th>\n",
       "      <td>0.26</td>\n",
       "      <td>0.71</td>\n",
       "      <td>0.04</td>\n",
       "    </tr>\n",
       "  </tbody>\n",
       "</table>\n",
       "</div>"
      ],
      "text/plain": [
       "NET         Discada  3G/4G  Banda Larga\n",
       "TV                                     \n",
       "Sem Sinal      0.25   0.71         0.03\n",
       "Aberta         0.23   0.73         0.04\n",
       "Antena         0.31   0.65         0.04\n",
       "Assinatura     0.26   0.71         0.04"
      ]
     },
     "execution_count": 278,
     "metadata": {},
     "output_type": "execute_result"
    },
    {
     "data": {
      "image/png": "[encoded data removed]",
      "text/plain": [
       "<matplotlib.figure.Figure at 0x1eb11c76b00>"
      ]
     },
     "metadata": {},
     "output_type": "display_data"
    }
   ],
   "source": [
    "ut1SD = pd.crosstab(dadosSD.TV,dadosSD.NET,normalize=\"index\").round(decimals=2)\n",
    "plot = ut1SD.plot(kind='bar',title='Sudeste: Frequencia de Qualidade de Internet em cada Plano de TV',figsize=(6, 6),color=('b','g','r'),stacked=True)\n",
    "plt.ylabel('Freq Relativa')\n",
    "plt.xlabel('Tipo de TV')\n",
    "ut1SD"
   ]
  },
  {
   "cell_type": "code",
   "execution_count": 279,
   "metadata": {},
   "outputs": [
    {
     "data": {
      "text/html": [
       "<div>\n",
       "<table border=\"1\" class=\"dataframe\">\n",
       "  <thead>\n",
       "    <tr style=\"text-align: right;\">\n",
       "      <th>TV</th>\n",
       "      <th>Sem Sinal</th>\n",
       "      <th>Aberta</th>\n",
       "      <th>Antena</th>\n",
       "      <th>Assinatura</th>\n",
       "    </tr>\n",
       "    <tr>\n",
       "      <th>NET</th>\n",
       "      <th></th>\n",
       "      <th></th>\n",
       "      <th></th>\n",
       "      <th></th>\n",
       "    </tr>\n",
       "  </thead>\n",
       "  <tbody>\n",
       "    <tr>\n",
       "      <th>Discada</th>\n",
       "      <td>0.14</td>\n",
       "      <td>0.15</td>\n",
       "      <td>0.17</td>\n",
       "      <td>0.55</td>\n",
       "    </tr>\n",
       "    <tr>\n",
       "      <th>3G/4G</th>\n",
       "      <td>0.14</td>\n",
       "      <td>0.17</td>\n",
       "      <td>0.13</td>\n",
       "      <td>0.56</td>\n",
       "    </tr>\n",
       "    <tr>\n",
       "      <th>Banda Larga</th>\n",
       "      <td>0.12</td>\n",
       "      <td>0.17</td>\n",
       "      <td>0.16</td>\n",
       "      <td>0.54</td>\n",
       "    </tr>\n",
       "  </tbody>\n",
       "</table>\n",
       "</div>"
      ],
      "text/plain": [
       "TV           Sem Sinal  Aberta  Antena  Assinatura\n",
       "NET                                               \n",
       "Discada           0.14    0.15    0.17        0.55\n",
       "3G/4G             0.14    0.17    0.13        0.56\n",
       "Banda Larga       0.12    0.17    0.16        0.54"
      ]
     },
     "execution_count": 279,
     "metadata": {},
     "output_type": "execute_result"
    },
    {
     "data": {
      "image/png": "[encoded data removed]",
      "text/plain": [
       "<matplotlib.figure.Figure at 0x1eb11bd6240>"
      ]
     },
     "metadata": {},
     "output_type": "display_data"
    }
   ],
   "source": [
    "ut2SD = pd.crosstab(dadosSD.NET,dadosSD.TV,normalize=\"index\").round(decimals=2)\n",
    "plot = ut2SD.plot(kind='bar',title='Sudeste: Frequencia de Qualidade de TV em cada Plano de Internet',figsize=(6, 6),color=('y','g','r','b'),stacked=True)\n",
    "plt.ylabel('Freq Relativa')\n",
    "plt.xlabel('Tipo de NET')\n",
    "ut2SD"
   ]
  },
  {
   "cell_type": "markdown",
   "metadata": {},
   "source": [
    "___\n",
    "Os primeiros graficos não nos indicam nenhuma relação direta ou indireta entre o consumo de TV e o consumo de Internet\n",
    "\n",
    "Vamos analisar em duas faixas de renda para tentar validar nossas hipoteses sobre ter alguma relação cultural, usaremos as faixas: Menos que 3 Salarios Minimos per Capta e Mais que 3 Salarios Minimos per Capta\n",
    "___"
   ]
  },
  {
   "cell_type": "code",
   "execution_count": 280,
   "metadata": {},
   "outputs": [
    {
     "data": {
      "text/html": [
       "<div>\n",
       "<table border=\"1\" class=\"dataframe\">\n",
       "  <thead>\n",
       "    <tr style=\"text-align: right;\">\n",
       "      <th>NET</th>\n",
       "      <th>Discada</th>\n",
       "      <th>3G/4G</th>\n",
       "      <th>Banda Larga</th>\n",
       "    </tr>\n",
       "    <tr>\n",
       "      <th>TV</th>\n",
       "      <th></th>\n",
       "      <th></th>\n",
       "      <th></th>\n",
       "    </tr>\n",
       "  </thead>\n",
       "  <tbody>\n",
       "    <tr>\n",
       "      <th>Sem Sinal</th>\n",
       "      <td>0.25</td>\n",
       "      <td>0.72</td>\n",
       "      <td>0.03</td>\n",
       "    </tr>\n",
       "    <tr>\n",
       "      <th>Aberta</th>\n",
       "      <td>0.22</td>\n",
       "      <td>0.74</td>\n",
       "      <td>0.04</td>\n",
       "    </tr>\n",
       "    <tr>\n",
       "      <th>Antena</th>\n",
       "      <td>0.30</td>\n",
       "      <td>0.66</td>\n",
       "      <td>0.04</td>\n",
       "    </tr>\n",
       "    <tr>\n",
       "      <th>Assinatura</th>\n",
       "      <td>0.26</td>\n",
       "      <td>0.69</td>\n",
       "      <td>0.04</td>\n",
       "    </tr>\n",
       "  </tbody>\n",
       "</table>\n",
       "</div>"
      ],
      "text/plain": [
       "NET         Discada  3G/4G  Banda Larga\n",
       "TV                                     \n",
       "Sem Sinal      0.25   0.72         0.03\n",
       "Aberta         0.22   0.74         0.04\n",
       "Antena         0.30   0.66         0.04\n",
       "Assinatura     0.26   0.69         0.04"
      ]
     },
     "execution_count": 280,
     "metadata": {},
     "output_type": "execute_result"
    },
    {
     "data": {
      "image/png": "[encoded data removed]",
      "text/plain": [
       "<matplotlib.figure.Figure at 0x1eb1175d710>"
      ]
     },
     "metadata": {},
     "output_type": "display_data"
    }
   ],
   "source": [
    "dados5pSD = dadosSD[(dadosSD.V4622 < 5)]\n",
    "ut1pSD = pd.crosstab(dados5pSD.TV,dados5pSD.NET,normalize=\"index\").round(decimals=2)\n",
    "plot = ut1pSD.plot(kind='bar',title='Sudeste: Frequencia de TVxNET em renda menor que 3 Salarios Minimos',figsize=(6, 6),color=('b','g','r'),stacked=True)\n",
    "plt.ylabel('Freq Relativa')\n",
    "plt.xlabel('Tipo de TV')\n",
    "ut1pSD"
   ]
  },
  {
   "cell_type": "code",
   "execution_count": 281,
   "metadata": {},
   "outputs": [
    {
     "data": {
      "text/html": [
       "<div>\n",
       "<table border=\"1\" class=\"dataframe\">\n",
       "  <thead>\n",
       "    <tr style=\"text-align: right;\">\n",
       "      <th>NET</th>\n",
       "      <th>Discada</th>\n",
       "      <th>3G/4G</th>\n",
       "      <th>Banda Larga</th>\n",
       "    </tr>\n",
       "    <tr>\n",
       "      <th>TV</th>\n",
       "      <th></th>\n",
       "      <th></th>\n",
       "      <th></th>\n",
       "    </tr>\n",
       "  </thead>\n",
       "  <tbody>\n",
       "    <tr>\n",
       "      <th>Sem Sinal</th>\n",
       "      <td>0.27</td>\n",
       "      <td>0.70</td>\n",
       "      <td>0.04</td>\n",
       "    </tr>\n",
       "    <tr>\n",
       "      <th>Aberta</th>\n",
       "      <td>0.27</td>\n",
       "      <td>0.70</td>\n",
       "      <td>0.04</td>\n",
       "    </tr>\n",
       "    <tr>\n",
       "      <th>Antena</th>\n",
       "      <td>0.35</td>\n",
       "      <td>0.59</td>\n",
       "      <td>0.06</td>\n",
       "    </tr>\n",
       "    <tr>\n",
       "      <th>Assinatura</th>\n",
       "      <td>0.25</td>\n",
       "      <td>0.73</td>\n",
       "      <td>0.03</td>\n",
       "    </tr>\n",
       "  </tbody>\n",
       "</table>\n",
       "</div>"
      ],
      "text/plain": [
       "NET         Discada  3G/4G  Banda Larga\n",
       "TV                                     \n",
       "Sem Sinal      0.27   0.70         0.04\n",
       "Aberta         0.27   0.70         0.04\n",
       "Antena         0.35   0.59         0.06\n",
       "Assinatura     0.25   0.73         0.03"
      ]
     },
     "execution_count": 281,
     "metadata": {},
     "output_type": "execute_result"
    },
    {
     "data": {
      "image/png": "[encoded data removed]",
      "text/plain": [
       "<matplotlib.figure.Figure at 0x1eb11b55da0>"
      ]
     },
     "metadata": {},
     "output_type": "display_data"
    }
   ],
   "source": [
    "dados5rSD = dadosSD[(dadosSD.V4622 > 4)]\n",
    "ut1rSD = pd.crosstab(dados5rSD.TV,dados5rSD.NET,normalize=\"index\").round(decimals=2)\n",
    "plot = ut1rSD.plot(kind='bar',title='Sudeste: Frequencia de TVxNET em renda maior que 3 Salarios Minimos',figsize=(6, 6),color=('b','g','r'),stacked=True)\n",
    "plt.ylabel('Freq Relativa')\n",
    "plt.xlabel('Tipo de TV')\n",
    "ut1rSD"
   ]
  },
  {
   "cell_type": "markdown",
   "metadata": {},
   "source": [
    "___\n",
    "Após a analise das tabelas e graficos, mesmo dividindo a população do Sudeste em duas faixas de renda, não é indicado nenhuma relação entre o consumo de TV e Interte são encontrados\n",
    "\n",
    "Para proseguir com nossa hipotese cultural, vamos aplicar a mesma analise nas demais regiões nacionais\n",
    "___"
   ]
  },
  {
   "cell_type": "markdown",
   "metadata": {
    "collapsed": true
   },
   "source": [
    "### Realizando o mesmo processo de analise para as demais regiões nacionais, temos o seguinte:"
   ]
  },
  {
   "cell_type": "markdown",
   "metadata": {
    "collapsed": true
   },
   "source": [
    "## Sul"
   ]
  },
  {
   "cell_type": "code",
   "execution_count": 282,
   "metadata": {},
   "outputs": [
    {
     "name": "stderr",
     "output_type": "stream",
     "text": [
      "C:\\Users\\pheli\\Anaconda3\\lib\\site-packages\\ipykernel\\__main__.py:18: SettingWithCopyWarning: \n",
      "A value is trying to be set on a copy of a slice from a DataFrame.\n",
      "Try using .loc[row_indexer,col_indexer] = value instead\n",
      "\n",
      "See the caveats in the documentation: http://pandas.pydata.org/pandas-docs/stable/indexing.html#indexing-view-versus-copy\n",
      "C:\\Users\\pheli\\Anaconda3\\lib\\site-packages\\ipykernel\\__main__.py:19: SettingWithCopyWarning: \n",
      "A value is trying to be set on a copy of a slice from a DataFrame.\n",
      "Try using .loc[row_indexer,col_indexer] = value instead\n",
      "\n",
      "See the caveats in the documentation: http://pandas.pydata.org/pandas-docs/stable/indexing.html#indexing-view-versus-copy\n",
      "C:\\Users\\pheli\\Anaconda3\\lib\\site-packages\\pandas\\core\\generic.py:2773: SettingWithCopyWarning: \n",
      "A value is trying to be set on a copy of a slice from a DataFrame.\n",
      "Try using .loc[row_indexer,col_indexer] = value instead\n",
      "\n",
      "See the caveats in the documentation: http://pandas.pydata.org/pandas-docs/stable/indexing.html#indexing-view-versus-copy\n",
      "  self[name] = value\n"
     ]
    }
   ],
   "source": [
    "dados1 = dados[((dados.UF<=43) & (dados.UF>= 41)) & ( (dados.V02272 > 0) | ((dados.V02273 == 1) | (dados.V02273 == 3)) | (dados.V02274 > 0)) & (((dados.V02424==1)|(dados.V02274 == 3)) | (dados.V02425 > 0) | (dados.V02426 > 0))]\n",
    "#dados (Região Sul & Que possua qualquer tipo de sinal de TV & Que possual qualquer tipo de sinal de Internet)\n",
    "\n",
    "\n",
    "dados2 = dados1[[\"UF\",\"V02272\",\"V02273\",\"V02274\",\"V02424\",\"V02425\",\"V02426\",\"V4622\"]]\n",
    "dados2 = dados2.dropna(how='any')\n",
    "dados3 = dados2\n",
    "\n",
    "\n",
    "TV = dados3.apply(MelhorTV,axis=1)\n",
    "NET = dados3.apply(MelhorNET,axis=1)\n",
    "\n",
    "dados3[\"TV\"] = TV\n",
    "dados3[\"NET\"] = NET\n",
    "\n",
    "\n",
    "dadosS = dados2[[\"UF\",\"V4622\"]]\n",
    "dadosS[\"TV\"] = dados3[\"TV\"]\n",
    "dadosS[\"NET\"] = dados3[\"NET\"]\n",
    "\n",
    "\n",
    "dadosS.NET = dadosS.NET.astype(\"category\")\n",
    "dadosS.TV = dadosS.TV.astype(\"category\")\n",
    "\n",
    "dadosS.NET.cat.categories=([\"Discada\",\"3G/4G\",\"Banda Larga\"])\n",
    "dadosS.TV.cat.categories=(\"Sem Sinal\", \"Aberta\", \"Antena\", \"Assinatura\")"
   ]
  },
  {
   "cell_type": "code",
   "execution_count": 283,
   "metadata": {},
   "outputs": [
    {
     "data": {
      "text/html": [
       "<div>\n",
       "<table border=\"1\" class=\"dataframe\">\n",
       "  <thead>\n",
       "    <tr style=\"text-align: right;\">\n",
       "      <th>NET</th>\n",
       "      <th>Discada</th>\n",
       "      <th>3G/4G</th>\n",
       "      <th>Banda Larga</th>\n",
       "    </tr>\n",
       "    <tr>\n",
       "      <th>TV</th>\n",
       "      <th></th>\n",
       "      <th></th>\n",
       "      <th></th>\n",
       "    </tr>\n",
       "  </thead>\n",
       "  <tbody>\n",
       "    <tr>\n",
       "      <th>Sem Sinal</th>\n",
       "      <td>0.32</td>\n",
       "      <td>0.65</td>\n",
       "      <td>0.03</td>\n",
       "    </tr>\n",
       "    <tr>\n",
       "      <th>Aberta</th>\n",
       "      <td>0.32</td>\n",
       "      <td>0.66</td>\n",
       "      <td>0.02</td>\n",
       "    </tr>\n",
       "    <tr>\n",
       "      <th>Antena</th>\n",
       "      <td>0.44</td>\n",
       "      <td>0.53</td>\n",
       "      <td>0.03</td>\n",
       "    </tr>\n",
       "    <tr>\n",
       "      <th>Assinatura</th>\n",
       "      <td>0.39</td>\n",
       "      <td>0.59</td>\n",
       "      <td>0.02</td>\n",
       "    </tr>\n",
       "  </tbody>\n",
       "</table>\n",
       "</div>"
      ],
      "text/plain": [
       "NET         Discada  3G/4G  Banda Larga\n",
       "TV                                     \n",
       "Sem Sinal      0.32   0.65         0.03\n",
       "Aberta         0.32   0.66         0.02\n",
       "Antena         0.44   0.53         0.03\n",
       "Assinatura     0.39   0.59         0.02"
      ]
     },
     "execution_count": 283,
     "metadata": {},
     "output_type": "execute_result"
    },
    {
     "data": {
      "image/png": "[encoded data removed]",
      "text/plain": [
       "<matplotlib.figure.Figure at 0x1eb13439b00>"
      ]
     },
     "metadata": {},
     "output_type": "display_data"
    }
   ],
   "source": [
    "ut1S = pd.crosstab(dadosS.TV,dadosS.NET,normalize=\"index\").round(decimals=2)\n",
    "plot = ut1S.plot(kind='bar',title='Sul: Frequencia de Qualidade de Internet em cada Plano de TV',figsize=(6, 6),color=('b','g','r'),stacked=True)\n",
    "plt.ylabel('Freq Relativa')\n",
    "plt.xlabel('Tipo de TV')\n",
    "ut1S"
   ]
  },
  {
   "cell_type": "code",
   "execution_count": 284,
   "metadata": {},
   "outputs": [
    {
     "data": {
      "text/html": [
       "<div>\n",
       "<table border=\"1\" class=\"dataframe\">\n",
       "  <thead>\n",
       "    <tr style=\"text-align: right;\">\n",
       "      <th>TV</th>\n",
       "      <th>Sem Sinal</th>\n",
       "      <th>Aberta</th>\n",
       "      <th>Antena</th>\n",
       "      <th>Assinatura</th>\n",
       "    </tr>\n",
       "    <tr>\n",
       "      <th>NET</th>\n",
       "      <th></th>\n",
       "      <th></th>\n",
       "      <th></th>\n",
       "      <th></th>\n",
       "    </tr>\n",
       "  </thead>\n",
       "  <tbody>\n",
       "    <tr>\n",
       "      <th>Discada</th>\n",
       "      <td>0.13</td>\n",
       "      <td>0.15</td>\n",
       "      <td>0.22</td>\n",
       "      <td>0.50</td>\n",
       "    </tr>\n",
       "    <tr>\n",
       "      <th>3G/4G</th>\n",
       "      <td>0.16</td>\n",
       "      <td>0.19</td>\n",
       "      <td>0.16</td>\n",
       "      <td>0.48</td>\n",
       "    </tr>\n",
       "    <tr>\n",
       "      <th>Banda Larga</th>\n",
       "      <td>0.18</td>\n",
       "      <td>0.14</td>\n",
       "      <td>0.23</td>\n",
       "      <td>0.45</td>\n",
       "    </tr>\n",
       "  </tbody>\n",
       "</table>\n",
       "</div>"
      ],
      "text/plain": [
       "TV           Sem Sinal  Aberta  Antena  Assinatura\n",
       "NET                                               \n",
       "Discada           0.13    0.15    0.22        0.50\n",
       "3G/4G             0.16    0.19    0.16        0.48\n",
       "Banda Larga       0.18    0.14    0.23        0.45"
      ]
     },
     "execution_count": 284,
     "metadata": {},
     "output_type": "execute_result"
    },
    {
     "data": {
      "image/png": "[encoded data removed]",
      "text/plain": [
       "<matplotlib.figure.Figure at 0x1eb12e3f358>"
      ]
     },
     "metadata": {},
     "output_type": "display_data"
    }
   ],
   "source": [
    "ut2S = pd.crosstab(dadosS.NET,dadosS.TV,normalize=\"index\").round(decimals=2)\n",
    "plot = ut2S.plot(kind='bar',title='Sul: Frequencia de Qualidade de TV em cada Plano de Internet',figsize=(6, 6),color=('y','g','r','b'),stacked=True)\n",
    "plt.ylabel('Freq Relativa')\n",
    "plt.xlabel('Tipo de NET')\n",
    "ut2S"
   ]
  },
  {
   "cell_type": "code",
   "execution_count": 285,
   "metadata": {},
   "outputs": [
    {
     "data": {
      "text/html": [
       "<div>\n",
       "<table border=\"1\" class=\"dataframe\">\n",
       "  <thead>\n",
       "    <tr style=\"text-align: right;\">\n",
       "      <th>NET</th>\n",
       "      <th>Discada</th>\n",
       "      <th>3G/4G</th>\n",
       "      <th>Banda Larga</th>\n",
       "    </tr>\n",
       "    <tr>\n",
       "      <th>TV</th>\n",
       "      <th></th>\n",
       "      <th></th>\n",
       "      <th></th>\n",
       "    </tr>\n",
       "  </thead>\n",
       "  <tbody>\n",
       "    <tr>\n",
       "      <th>Sem Sinal</th>\n",
       "      <td>0.32</td>\n",
       "      <td>0.65</td>\n",
       "      <td>0.03</td>\n",
       "    </tr>\n",
       "    <tr>\n",
       "      <th>Aberta</th>\n",
       "      <td>0.31</td>\n",
       "      <td>0.67</td>\n",
       "      <td>0.02</td>\n",
       "    </tr>\n",
       "    <tr>\n",
       "      <th>Antena</th>\n",
       "      <td>0.43</td>\n",
       "      <td>0.54</td>\n",
       "      <td>0.03</td>\n",
       "    </tr>\n",
       "    <tr>\n",
       "      <th>Assinatura</th>\n",
       "      <td>0.40</td>\n",
       "      <td>0.58</td>\n",
       "      <td>0.02</td>\n",
       "    </tr>\n",
       "  </tbody>\n",
       "</table>\n",
       "</div>"
      ],
      "text/plain": [
       "NET         Discada  3G/4G  Banda Larga\n",
       "TV                                     \n",
       "Sem Sinal      0.32   0.65         0.03\n",
       "Aberta         0.31   0.67         0.02\n",
       "Antena         0.43   0.54         0.03\n",
       "Assinatura     0.40   0.58         0.02"
      ]
     },
     "execution_count": 285,
     "metadata": {},
     "output_type": "execute_result"
    },
    {
     "data": {
      "image/png": "[encoded data removed]",
      "text/plain": [
       "<matplotlib.figure.Figure at 0x1eb117fad30>"
      ]
     },
     "metadata": {},
     "output_type": "display_data"
    }
   ],
   "source": [
    "dados5pS = dadosS[(dadosS.V4622 < 5)]\n",
    "ut1pS = pd.crosstab(dados5pS.TV,dados5pS.NET,normalize=\"index\").round(decimals=2)\n",
    "plot = ut1pS.plot(kind='bar',title='Sul: Frequencia de TVxNET em renda menor que 3 Salarios Minimos',figsize=(6, 6),color=('b','g','r'),stacked=True)\n",
    "plt.ylabel('Freq Relativa')\n",
    "plt.xlabel('Tipo de TV')\n",
    "ut1pS"
   ]
  },
  {
   "cell_type": "code",
   "execution_count": 286,
   "metadata": {},
   "outputs": [
    {
     "data": {
      "text/html": [
       "<div>\n",
       "<table border=\"1\" class=\"dataframe\">\n",
       "  <thead>\n",
       "    <tr style=\"text-align: right;\">\n",
       "      <th>NET</th>\n",
       "      <th>Discada</th>\n",
       "      <th>3G/4G</th>\n",
       "      <th>Banda Larga</th>\n",
       "    </tr>\n",
       "    <tr>\n",
       "      <th>TV</th>\n",
       "      <th></th>\n",
       "      <th></th>\n",
       "      <th></th>\n",
       "    </tr>\n",
       "  </thead>\n",
       "  <tbody>\n",
       "    <tr>\n",
       "      <th>Sem Sinal</th>\n",
       "      <td>0.34</td>\n",
       "      <td>0.63</td>\n",
       "      <td>0.03</td>\n",
       "    </tr>\n",
       "    <tr>\n",
       "      <th>Aberta</th>\n",
       "      <td>0.35</td>\n",
       "      <td>0.63</td>\n",
       "      <td>0.02</td>\n",
       "    </tr>\n",
       "    <tr>\n",
       "      <th>Antena</th>\n",
       "      <td>0.47</td>\n",
       "      <td>0.48</td>\n",
       "      <td>0.05</td>\n",
       "    </tr>\n",
       "    <tr>\n",
       "      <th>Assinatura</th>\n",
       "      <td>0.37</td>\n",
       "      <td>0.60</td>\n",
       "      <td>0.02</td>\n",
       "    </tr>\n",
       "  </tbody>\n",
       "</table>\n",
       "</div>"
      ],
      "text/plain": [
       "NET         Discada  3G/4G  Banda Larga\n",
       "TV                                     \n",
       "Sem Sinal      0.34   0.63         0.03\n",
       "Aberta         0.35   0.63         0.02\n",
       "Antena         0.47   0.48         0.05\n",
       "Assinatura     0.37   0.60         0.02"
      ]
     },
     "execution_count": 286,
     "metadata": {},
     "output_type": "execute_result"
    },
    {
     "data": {
      "image/png": "[encoded data removed]",
      "text/plain": [
       "<matplotlib.figure.Figure at 0x1eb11c76438>"
      ]
     },
     "metadata": {},
     "output_type": "display_data"
    }
   ],
   "source": [
    "dados5rS = dadosS[(dadosS.V4622 > 4)]\n",
    "ut1rS = pd.crosstab(dados5rS.TV,dados5rS.NET,normalize=\"index\").round(decimals=2)\n",
    "plot = ut1rS.plot(kind='bar',title='Sul: Frequencia de TVxNET em renda maior que 3 Salarios Minimos',figsize=(6, 6),color=('b','g','r'),stacked=True)\n",
    "plt.ylabel('Freq Relativa')\n",
    "plt.xlabel('Tipo de TV')\n",
    "ut1rS"
   ]
  },
  {
   "cell_type": "markdown",
   "metadata": {},
   "source": [
    "___\n",
    "## Centro-Oeste"
   ]
  },
  {
   "cell_type": "code",
   "execution_count": 287,
   "metadata": {},
   "outputs": [
    {
     "name": "stderr",
     "output_type": "stream",
     "text": [
      "C:\\Users\\pheli\\Anaconda3\\lib\\site-packages\\ipykernel\\__main__.py:18: SettingWithCopyWarning: \n",
      "A value is trying to be set on a copy of a slice from a DataFrame.\n",
      "Try using .loc[row_indexer,col_indexer] = value instead\n",
      "\n",
      "See the caveats in the documentation: http://pandas.pydata.org/pandas-docs/stable/indexing.html#indexing-view-versus-copy\n",
      "C:\\Users\\pheli\\Anaconda3\\lib\\site-packages\\ipykernel\\__main__.py:19: SettingWithCopyWarning: \n",
      "A value is trying to be set on a copy of a slice from a DataFrame.\n",
      "Try using .loc[row_indexer,col_indexer] = value instead\n",
      "\n",
      "See the caveats in the documentation: http://pandas.pydata.org/pandas-docs/stable/indexing.html#indexing-view-versus-copy\n",
      "C:\\Users\\pheli\\Anaconda3\\lib\\site-packages\\pandas\\core\\generic.py:2773: SettingWithCopyWarning: \n",
      "A value is trying to be set on a copy of a slice from a DataFrame.\n",
      "Try using .loc[row_indexer,col_indexer] = value instead\n",
      "\n",
      "See the caveats in the documentation: http://pandas.pydata.org/pandas-docs/stable/indexing.html#indexing-view-versus-copy\n",
      "  self[name] = value\n"
     ]
    }
   ],
   "source": [
    "dados1 = dados[((dados.UF<=53) & (dados.UF>= 50)) & ( (dados.V02272 > 0) | ((dados.V02273 == 1) | (dados.V02273 == 3)) | (dados.V02274 > 0)) & (((dados.V02424==1)|(dados.V02274 == 3)) | (dados.V02425 > 0) | (dados.V02426 > 0))]\n",
    "#dados (Região Centro-Oeste & Que possua qualquer tipo de sinal de TV & Que possual qualquer tipo de sinal de Internet)\n",
    "\n",
    "\n",
    "dados2 = dados1[[\"UF\",\"V02272\",\"V02273\",\"V02274\",\"V02424\",\"V02425\",\"V02426\",\"V4622\"]]\n",
    "dados2 = dados2.dropna(how='any')\n",
    "dados3 = dados2\n",
    "\n",
    "\n",
    "TV = dados3.apply(MelhorTV,axis=1)\n",
    "NET = dados3.apply(MelhorNET,axis=1)\n",
    "\n",
    "dados3[\"TV\"] = TV\n",
    "dados3[\"NET\"] = NET\n",
    "\n",
    "\n",
    "dadosCO = dados2[[\"UF\",\"V4622\"]]\n",
    "dadosCO[\"TV\"] = dados3[\"TV\"]\n",
    "dadosCO[\"NET\"] = dados3[\"NET\"]\n",
    "\n",
    "\n",
    "dadosCO.NET = dadosCO.NET.astype(\"category\")\n",
    "dadosCO.TV = dadosCO.TV.astype(\"category\")\n",
    "\n",
    "dadosCO.NET.cat.categories=([\"Discada\",\"3G/4G\",\"Banda Larga\"])\n",
    "dadosCO.TV.cat.categories=(\"Sem Sinal\", \"Aberta\", \"Antena\", \"Assinatura\")"
   ]
  },
  {
   "cell_type": "code",
   "execution_count": 288,
   "metadata": {},
   "outputs": [
    {
     "data": {
      "text/html": [
       "<div>\n",
       "<table border=\"1\" class=\"dataframe\">\n",
       "  <thead>\n",
       "    <tr style=\"text-align: right;\">\n",
       "      <th>NET</th>\n",
       "      <th>Discada</th>\n",
       "      <th>3G/4G</th>\n",
       "      <th>Banda Larga</th>\n",
       "    </tr>\n",
       "    <tr>\n",
       "      <th>TV</th>\n",
       "      <th></th>\n",
       "      <th></th>\n",
       "      <th></th>\n",
       "    </tr>\n",
       "  </thead>\n",
       "  <tbody>\n",
       "    <tr>\n",
       "      <th>Sem Sinal</th>\n",
       "      <td>0.20</td>\n",
       "      <td>0.77</td>\n",
       "      <td>0.03</td>\n",
       "    </tr>\n",
       "    <tr>\n",
       "      <th>Aberta</th>\n",
       "      <td>0.25</td>\n",
       "      <td>0.72</td>\n",
       "      <td>0.02</td>\n",
       "    </tr>\n",
       "    <tr>\n",
       "      <th>Antena</th>\n",
       "      <td>0.26</td>\n",
       "      <td>0.69</td>\n",
       "      <td>0.04</td>\n",
       "    </tr>\n",
       "    <tr>\n",
       "      <th>Assinatura</th>\n",
       "      <td>0.27</td>\n",
       "      <td>0.70</td>\n",
       "      <td>0.03</td>\n",
       "    </tr>\n",
       "  </tbody>\n",
       "</table>\n",
       "</div>"
      ],
      "text/plain": [
       "NET         Discada  3G/4G  Banda Larga\n",
       "TV                                     \n",
       "Sem Sinal      0.20   0.77         0.03\n",
       "Aberta         0.25   0.72         0.02\n",
       "Antena         0.26   0.69         0.04\n",
       "Assinatura     0.27   0.70         0.03"
      ]
     },
     "execution_count": 288,
     "metadata": {},
     "output_type": "execute_result"
    },
    {
     "data": {
      "image/png": "[encoded data removed]",
      "text/plain": [
       "<matplotlib.figure.Figure at 0x1eb11a58198>"
      ]
     },
     "metadata": {},
     "output_type": "display_data"
    }
   ],
   "source": [
    "ut1CO = pd.crosstab(dadosCO.TV,dadosCO.NET,normalize=\"index\").round(decimals=2)\n",
    "plot = ut1CO.plot(kind='bar',title='Centro-Oeste: Frequencia de Qualidade de Internet em cada Plano de TV',figsize=(6, 6),color=('b','g','r'),stacked=True)\n",
    "plt.ylabel('Freq Relativa')\n",
    "plt.xlabel('Tipo de TV')\n",
    "ut1CO"
   ]
  },
  {
   "cell_type": "code",
   "execution_count": 289,
   "metadata": {},
   "outputs": [
    {
     "data": {
      "text/html": [
       "<div>\n",
       "<table border=\"1\" class=\"dataframe\">\n",
       "  <thead>\n",
       "    <tr style=\"text-align: right;\">\n",
       "      <th>TV</th>\n",
       "      <th>Sem Sinal</th>\n",
       "      <th>Aberta</th>\n",
       "      <th>Antena</th>\n",
       "      <th>Assinatura</th>\n",
       "    </tr>\n",
       "    <tr>\n",
       "      <th>NET</th>\n",
       "      <th></th>\n",
       "      <th></th>\n",
       "      <th></th>\n",
       "      <th></th>\n",
       "    </tr>\n",
       "  </thead>\n",
       "  <tbody>\n",
       "    <tr>\n",
       "      <th>Discada</th>\n",
       "      <td>0.13</td>\n",
       "      <td>0.15</td>\n",
       "      <td>0.25</td>\n",
       "      <td>0.47</td>\n",
       "    </tr>\n",
       "    <tr>\n",
       "      <th>3G/4G</th>\n",
       "      <td>0.18</td>\n",
       "      <td>0.15</td>\n",
       "      <td>0.23</td>\n",
       "      <td>0.44</td>\n",
       "    </tr>\n",
       "    <tr>\n",
       "      <th>Banda Larga</th>\n",
       "      <td>0.14</td>\n",
       "      <td>0.10</td>\n",
       "      <td>0.32</td>\n",
       "      <td>0.43</td>\n",
       "    </tr>\n",
       "  </tbody>\n",
       "</table>\n",
       "</div>"
      ],
      "text/plain": [
       "TV           Sem Sinal  Aberta  Antena  Assinatura\n",
       "NET                                               \n",
       "Discada           0.13    0.15    0.25        0.47\n",
       "3G/4G             0.18    0.15    0.23        0.44\n",
       "Banda Larga       0.14    0.10    0.32        0.43"
      ]
     },
     "execution_count": 289,
     "metadata": {},
     "output_type": "execute_result"
    },
    {
     "data": {
      "image/png": "[encoded data removed]",
      "text/plain": [
       "<matplotlib.figure.Figure at 0x1eb43c35c88>"
      ]
     },
     "metadata": {},
     "output_type": "display_data"
    }
   ],
   "source": [
    "ut2CO = pd.crosstab(dadosCO.NET,dadosCO.TV,normalize=\"index\").round(decimals=2)\n",
    "plot = ut2CO.plot(kind='bar',title='Centro-Oeste: Frequencia de Qualidade de TV em cada Plano de Internet',figsize=(6, 6),color=('y','g','r','b'),stacked=True)\n",
    "plt.ylabel('Freq Relativa')\n",
    "plt.xlabel('Tipo de NET')\n",
    "ut2CO"
   ]
  },
  {
   "cell_type": "code",
   "execution_count": 290,
   "metadata": {},
   "outputs": [
    {
     "data": {
      "text/html": [
       "<div>\n",
       "<table border=\"1\" class=\"dataframe\">\n",
       "  <thead>\n",
       "    <tr style=\"text-align: right;\">\n",
       "      <th>NET</th>\n",
       "      <th>Discada</th>\n",
       "      <th>3G/4G</th>\n",
       "      <th>Banda Larga</th>\n",
       "    </tr>\n",
       "    <tr>\n",
       "      <th>TV</th>\n",
       "      <th></th>\n",
       "      <th></th>\n",
       "      <th></th>\n",
       "    </tr>\n",
       "  </thead>\n",
       "  <tbody>\n",
       "    <tr>\n",
       "      <th>Sem Sinal</th>\n",
       "      <td>0.20</td>\n",
       "      <td>0.77</td>\n",
       "      <td>0.03</td>\n",
       "    </tr>\n",
       "    <tr>\n",
       "      <th>Aberta</th>\n",
       "      <td>0.26</td>\n",
       "      <td>0.71</td>\n",
       "      <td>0.02</td>\n",
       "    </tr>\n",
       "    <tr>\n",
       "      <th>Antena</th>\n",
       "      <td>0.25</td>\n",
       "      <td>0.71</td>\n",
       "      <td>0.04</td>\n",
       "    </tr>\n",
       "    <tr>\n",
       "      <th>Assinatura</th>\n",
       "      <td>0.29</td>\n",
       "      <td>0.68</td>\n",
       "      <td>0.03</td>\n",
       "    </tr>\n",
       "  </tbody>\n",
       "</table>\n",
       "</div>"
      ],
      "text/plain": [
       "NET         Discada  3G/4G  Banda Larga\n",
       "TV                                     \n",
       "Sem Sinal      0.20   0.77         0.03\n",
       "Aberta         0.26   0.71         0.02\n",
       "Antena         0.25   0.71         0.04\n",
       "Assinatura     0.29   0.68         0.03"
      ]
     },
     "execution_count": 290,
     "metadata": {},
     "output_type": "execute_result"
    },
    {
     "data": {
      "image/png": "[encoded data removed]",
      "text/plain": [
       "<matplotlib.figure.Figure at 0x1eb11b5b710>"
      ]
     },
     "metadata": {},
     "output_type": "display_data"
    }
   ],
   "source": [
    "dados5pCO = dadosCO[(dadosCO.V4622 < 5)]\n",
    "ut1pCO = pd.crosstab(dados5pCO.TV,dados5pCO.NET,normalize=\"index\").round(decimals=2)\n",
    "plot = ut1pCO.plot(kind='bar',title='Centro-Oeste: Frequencia de TVxNET em renda menor que 3 Salarios Minimos',figsize=(6, 6),color=('b','g','r'),stacked=True)\n",
    "plt.ylabel('Freq Relativa')\n",
    "plt.xlabel('Tipo de TV')\n",
    "ut1pCO"
   ]
  },
  {
   "cell_type": "code",
   "execution_count": 291,
   "metadata": {},
   "outputs": [
    {
     "data": {
      "text/html": [
       "<div>\n",
       "<table border=\"1\" class=\"dataframe\">\n",
       "  <thead>\n",
       "    <tr style=\"text-align: right;\">\n",
       "      <th>NET</th>\n",
       "      <th>Discada</th>\n",
       "      <th>3G/4G</th>\n",
       "      <th>Banda Larga</th>\n",
       "    </tr>\n",
       "    <tr>\n",
       "      <th>TV</th>\n",
       "      <th></th>\n",
       "      <th></th>\n",
       "      <th></th>\n",
       "    </tr>\n",
       "  </thead>\n",
       "  <tbody>\n",
       "    <tr>\n",
       "      <th>Sem Sinal</th>\n",
       "      <td>0.20</td>\n",
       "      <td>0.77</td>\n",
       "      <td>0.02</td>\n",
       "    </tr>\n",
       "    <tr>\n",
       "      <th>Aberta</th>\n",
       "      <td>0.23</td>\n",
       "      <td>0.76</td>\n",
       "      <td>0.02</td>\n",
       "    </tr>\n",
       "    <tr>\n",
       "      <th>Antena</th>\n",
       "      <td>0.31</td>\n",
       "      <td>0.63</td>\n",
       "      <td>0.06</td>\n",
       "    </tr>\n",
       "    <tr>\n",
       "      <th>Assinatura</th>\n",
       "      <td>0.25</td>\n",
       "      <td>0.72</td>\n",
       "      <td>0.03</td>\n",
       "    </tr>\n",
       "  </tbody>\n",
       "</table>\n",
       "</div>"
      ],
      "text/plain": [
       "NET         Discada  3G/4G  Banda Larga\n",
       "TV                                     \n",
       "Sem Sinal      0.20   0.77         0.02\n",
       "Aberta         0.23   0.76         0.02\n",
       "Antena         0.31   0.63         0.06\n",
       "Assinatura     0.25   0.72         0.03"
      ]
     },
     "execution_count": 291,
     "metadata": {},
     "output_type": "execute_result"
    },
    {
     "data": {
      "image/png": "[encoded data removed]",
      "text/plain": [
       "<matplotlib.figure.Figure at 0x1eb1347e198>"
      ]
     },
     "metadata": {},
     "output_type": "display_data"
    }
   ],
   "source": [
    "dados5rCO = dadosCO[(dadosCO.V4622 > 4)]\n",
    "ut1rCO = pd.crosstab(dados5rCO.TV,dados5rCO.NET,normalize=\"index\").round(decimals=2)\n",
    "plot = ut1rCO.plot(kind='bar',title='Centro-Oeste: Frequencia de TVxNET em renda maior que 3 Salarios Minimos',figsize=(6, 6),color=('b','g','r'),stacked=True)\n",
    "plt.ylabel('Freq Relativa')\n",
    "plt.xlabel('Tipo de TV')\n",
    "ut1rCO"
   ]
  },
  {
   "cell_type": "markdown",
   "metadata": {},
   "source": [
    "___\n",
    "## Nordeste"
   ]
  },
  {
   "cell_type": "code",
   "execution_count": 292,
   "metadata": {},
   "outputs": [
    {
     "name": "stderr",
     "output_type": "stream",
     "text": [
      "C:\\Users\\pheli\\Anaconda3\\lib\\site-packages\\ipykernel\\__main__.py:18: SettingWithCopyWarning: \n",
      "A value is trying to be set on a copy of a slice from a DataFrame.\n",
      "Try using .loc[row_indexer,col_indexer] = value instead\n",
      "\n",
      "See the caveats in the documentation: http://pandas.pydata.org/pandas-docs/stable/indexing.html#indexing-view-versus-copy\n",
      "C:\\Users\\pheli\\Anaconda3\\lib\\site-packages\\ipykernel\\__main__.py:19: SettingWithCopyWarning: \n",
      "A value is trying to be set on a copy of a slice from a DataFrame.\n",
      "Try using .loc[row_indexer,col_indexer] = value instead\n",
      "\n",
      "See the caveats in the documentation: http://pandas.pydata.org/pandas-docs/stable/indexing.html#indexing-view-versus-copy\n",
      "C:\\Users\\pheli\\Anaconda3\\lib\\site-packages\\pandas\\core\\generic.py:2773: SettingWithCopyWarning: \n",
      "A value is trying to be set on a copy of a slice from a DataFrame.\n",
      "Try using .loc[row_indexer,col_indexer] = value instead\n",
      "\n",
      "See the caveats in the documentation: http://pandas.pydata.org/pandas-docs/stable/indexing.html#indexing-view-versus-copy\n",
      "  self[name] = value\n"
     ]
    }
   ],
   "source": [
    "dados1 = dados[((dados.UF<=29) & (dados.UF>= 21)) & ( (dados.V02272 > 0) | ((dados.V02273 == 1) | (dados.V02273 == 3)) | (dados.V02274 > 0)) & (((dados.V02424==1)|(dados.V02274 == 3)) | (dados.V02425 > 0) | (dados.V02426 > 0))]\n",
    "#dados (Região Nordeste & Que possua qualquer tipo de sinal de TV & Que possual qualquer tipo de sinal de Internet)\n",
    "\n",
    "\n",
    "dados2 = dados1[[\"UF\",\"V02272\",\"V02273\",\"V02274\",\"V02424\",\"V02425\",\"V02426\",\"V4622\"]]\n",
    "dados2 = dados2.dropna(how='any')\n",
    "dados3 = dados2\n",
    "\n",
    "\n",
    "TV = dados3.apply(MelhorTV,axis=1)\n",
    "NET = dados3.apply(MelhorNET,axis=1)\n",
    "\n",
    "dados3[\"TV\"] = TV\n",
    "dados3[\"NET\"] = NET\n",
    "\n",
    "\n",
    "dadosND = dados2[[\"UF\",\"V4622\"]]\n",
    "dadosND[\"TV\"] = dados3[\"TV\"]\n",
    "dadosND[\"NET\"] = dados3[\"NET\"]\n",
    "\n",
    "\n",
    "dadosND.NET = dadosND.NET.astype(\"category\")\n",
    "dadosND.TV = dadosND.TV.astype(\"category\")\n",
    "\n",
    "dadosND.NET.cat.categories=([\"Discada\",\"3G/4G\",\"Banda Larga\"])\n",
    "dadosND.TV.cat.categories=(\"Sem Sinal\", \"Aberta\", \"Antena\", \"Assinatura\")"
   ]
  },
  {
   "cell_type": "code",
   "execution_count": 293,
   "metadata": {},
   "outputs": [
    {
     "data": {
      "text/html": [
       "<div>\n",
       "<table border=\"1\" class=\"dataframe\">\n",
       "  <thead>\n",
       "    <tr style=\"text-align: right;\">\n",
       "      <th>NET</th>\n",
       "      <th>Discada</th>\n",
       "      <th>3G/4G</th>\n",
       "      <th>Banda Larga</th>\n",
       "    </tr>\n",
       "    <tr>\n",
       "      <th>TV</th>\n",
       "      <th></th>\n",
       "      <th></th>\n",
       "      <th></th>\n",
       "    </tr>\n",
       "  </thead>\n",
       "  <tbody>\n",
       "    <tr>\n",
       "      <th>Sem Sinal</th>\n",
       "      <td>0.26</td>\n",
       "      <td>0.73</td>\n",
       "      <td>0.01</td>\n",
       "    </tr>\n",
       "    <tr>\n",
       "      <th>Aberta</th>\n",
       "      <td>0.30</td>\n",
       "      <td>0.69</td>\n",
       "      <td>0.02</td>\n",
       "    </tr>\n",
       "    <tr>\n",
       "      <th>Antena</th>\n",
       "      <td>0.34</td>\n",
       "      <td>0.62</td>\n",
       "      <td>0.04</td>\n",
       "    </tr>\n",
       "    <tr>\n",
       "      <th>Assinatura</th>\n",
       "      <td>0.32</td>\n",
       "      <td>0.65</td>\n",
       "      <td>0.03</td>\n",
       "    </tr>\n",
       "  </tbody>\n",
       "</table>\n",
       "</div>"
      ],
      "text/plain": [
       "NET         Discada  3G/4G  Banda Larga\n",
       "TV                                     \n",
       "Sem Sinal      0.26   0.73         0.01\n",
       "Aberta         0.30   0.69         0.02\n",
       "Antena         0.34   0.62         0.04\n",
       "Assinatura     0.32   0.65         0.03"
      ]
     },
     "execution_count": 293,
     "metadata": {},
     "output_type": "execute_result"
    },
    {
     "data": {
      "image/png": "[encoded data removed]",
      "text/plain": [
       "<matplotlib.figure.Figure at 0x1eb120120b8>"
      ]
     },
     "metadata": {},
     "output_type": "display_data"
    }
   ],
   "source": [
    "ut1ND = pd.crosstab(dadosND.TV,dadosND.NET,normalize=\"index\").round(decimals=2)\n",
    "plot = ut1ND.plot(kind='bar',title='Nordeste: Frequencia de Qualidade de Internet em cada Plano de TV',figsize=(6, 6),color=('b','g','r'),stacked=True)\n",
    "plt.ylabel('Freq Relativa')\n",
    "plt.xlabel('Tipo de TV')\n",
    "ut1ND"
   ]
  },
  {
   "cell_type": "code",
   "execution_count": 294,
   "metadata": {},
   "outputs": [
    {
     "data": {
      "text/html": [
       "<div>\n",
       "<table border=\"1\" class=\"dataframe\">\n",
       "  <thead>\n",
       "    <tr style=\"text-align: right;\">\n",
       "      <th>TV</th>\n",
       "      <th>Sem Sinal</th>\n",
       "      <th>Aberta</th>\n",
       "      <th>Antena</th>\n",
       "      <th>Assinatura</th>\n",
       "    </tr>\n",
       "    <tr>\n",
       "      <th>NET</th>\n",
       "      <th></th>\n",
       "      <th></th>\n",
       "      <th></th>\n",
       "      <th></th>\n",
       "    </tr>\n",
       "  </thead>\n",
       "  <tbody>\n",
       "    <tr>\n",
       "      <th>Discada</th>\n",
       "      <td>0.16</td>\n",
       "      <td>0.22</td>\n",
       "      <td>0.29</td>\n",
       "      <td>0.33</td>\n",
       "    </tr>\n",
       "    <tr>\n",
       "      <th>3G/4G</th>\n",
       "      <td>0.21</td>\n",
       "      <td>0.24</td>\n",
       "      <td>0.25</td>\n",
       "      <td>0.31</td>\n",
       "    </tr>\n",
       "    <tr>\n",
       "      <th>Banda Larga</th>\n",
       "      <td>0.10</td>\n",
       "      <td>0.14</td>\n",
       "      <td>0.45</td>\n",
       "      <td>0.31</td>\n",
       "    </tr>\n",
       "  </tbody>\n",
       "</table>\n",
       "</div>"
      ],
      "text/plain": [
       "TV           Sem Sinal  Aberta  Antena  Assinatura\n",
       "NET                                               \n",
       "Discada           0.16    0.22    0.29        0.33\n",
       "3G/4G             0.21    0.24    0.25        0.31\n",
       "Banda Larga       0.10    0.14    0.45        0.31"
      ]
     },
     "execution_count": 294,
     "metadata": {},
     "output_type": "execute_result"
    },
    {
     "data": {
      "image/png": "[encoded data removed]",
      "text/plain": [
       "<matplotlib.figure.Figure at 0x1eb12c2d128>"
      ]
     },
     "metadata": {},
     "output_type": "display_data"
    }
   ],
   "source": [
    "ut2ND = pd.crosstab(dadosND.NET,dadosND.TV,normalize=\"index\").round(decimals=2)\n",
    "plot = ut2ND.plot(kind='bar',title='Nordeste: Frequencia de Qualidade de TV em cada Plano de Internet',figsize=(6, 6),color=('y','g','r','b'),stacked=True)\n",
    "plt.ylabel('Freq Relativa')\n",
    "plt.xlabel('Tipo de NET')\n",
    "ut2ND"
   ]
  },
  {
   "cell_type": "code",
   "execution_count": 295,
   "metadata": {},
   "outputs": [
    {
     "data": {
      "text/html": [
       "<div>\n",
       "<table border=\"1\" class=\"dataframe\">\n",
       "  <thead>\n",
       "    <tr style=\"text-align: right;\">\n",
       "      <th>NET</th>\n",
       "      <th>Discada</th>\n",
       "      <th>3G/4G</th>\n",
       "      <th>Banda Larga</th>\n",
       "    </tr>\n",
       "    <tr>\n",
       "      <th>TV</th>\n",
       "      <th></th>\n",
       "      <th></th>\n",
       "      <th></th>\n",
       "    </tr>\n",
       "  </thead>\n",
       "  <tbody>\n",
       "    <tr>\n",
       "      <th>Sem Sinal</th>\n",
       "      <td>0.26</td>\n",
       "      <td>0.73</td>\n",
       "      <td>0.01</td>\n",
       "    </tr>\n",
       "    <tr>\n",
       "      <th>Aberta</th>\n",
       "      <td>0.29</td>\n",
       "      <td>0.69</td>\n",
       "      <td>0.02</td>\n",
       "    </tr>\n",
       "    <tr>\n",
       "      <th>Antena</th>\n",
       "      <td>0.34</td>\n",
       "      <td>0.62</td>\n",
       "      <td>0.04</td>\n",
       "    </tr>\n",
       "    <tr>\n",
       "      <th>Assinatura</th>\n",
       "      <td>0.34</td>\n",
       "      <td>0.63</td>\n",
       "      <td>0.03</td>\n",
       "    </tr>\n",
       "  </tbody>\n",
       "</table>\n",
       "</div>"
      ],
      "text/plain": [
       "NET         Discada  3G/4G  Banda Larga\n",
       "TV                                     \n",
       "Sem Sinal      0.26   0.73         0.01\n",
       "Aberta         0.29   0.69         0.02\n",
       "Antena         0.34   0.62         0.04\n",
       "Assinatura     0.34   0.63         0.03"
      ]
     },
     "execution_count": 295,
     "metadata": {},
     "output_type": "execute_result"
    },
    {
     "data": {
      "image/png": "[encoded data removed]",
      "text/plain": [
       "<matplotlib.figure.Figure at 0x1eb12bb1080>"
      ]
     },
     "metadata": {},
     "output_type": "display_data"
    }
   ],
   "source": [
    "dados5pND = dadosND[(dadosND.V4622 < 5)]\n",
    "ut1pND = pd.crosstab(dados5pND.TV,dados5pND.NET,normalize=\"index\").round(decimals=2)\n",
    "plot = ut1pND.plot(kind='bar',title='Nordeste: Frequencia de TVxNET em renda menor que 3 Salarios Minimos',figsize=(6, 6),color=('b','g','r'),stacked=True)\n",
    "plt.ylabel('Freq Relativa')\n",
    "plt.xlabel('Tipo de TV')\n",
    "ut1pND"
   ]
  },
  {
   "cell_type": "code",
   "execution_count": 296,
   "metadata": {},
   "outputs": [
    {
     "data": {
      "text/html": [
       "<div>\n",
       "<table border=\"1\" class=\"dataframe\">\n",
       "  <thead>\n",
       "    <tr style=\"text-align: right;\">\n",
       "      <th>NET</th>\n",
       "      <th>Discada</th>\n",
       "      <th>3G/4G</th>\n",
       "      <th>Banda Larga</th>\n",
       "    </tr>\n",
       "    <tr>\n",
       "      <th>TV</th>\n",
       "      <th></th>\n",
       "      <th></th>\n",
       "      <th></th>\n",
       "    </tr>\n",
       "  </thead>\n",
       "  <tbody>\n",
       "    <tr>\n",
       "      <th>Sem Sinal</th>\n",
       "      <td>0.26</td>\n",
       "      <td>0.72</td>\n",
       "      <td>0.02</td>\n",
       "    </tr>\n",
       "    <tr>\n",
       "      <th>Aberta</th>\n",
       "      <td>0.32</td>\n",
       "      <td>0.66</td>\n",
       "      <td>0.02</td>\n",
       "    </tr>\n",
       "    <tr>\n",
       "      <th>Antena</th>\n",
       "      <td>0.39</td>\n",
       "      <td>0.55</td>\n",
       "      <td>0.06</td>\n",
       "    </tr>\n",
       "    <tr>\n",
       "      <th>Assinatura</th>\n",
       "      <td>0.30</td>\n",
       "      <td>0.68</td>\n",
       "      <td>0.02</td>\n",
       "    </tr>\n",
       "  </tbody>\n",
       "</table>\n",
       "</div>"
      ],
      "text/plain": [
       "NET         Discada  3G/4G  Banda Larga\n",
       "TV                                     \n",
       "Sem Sinal      0.26   0.72         0.02\n",
       "Aberta         0.32   0.66         0.02\n",
       "Antena         0.39   0.55         0.06\n",
       "Assinatura     0.30   0.68         0.02"
      ]
     },
     "execution_count": 296,
     "metadata": {},
     "output_type": "execute_result"
    },
    {
     "data": {
      "image/png": "[encoded data removed]",
      "text/plain": [
       "<matplotlib.figure.Figure at 0x1eb469e9c50>"
      ]
     },
     "metadata": {},
     "output_type": "display_data"
    }
   ],
   "source": [
    "dados5rND = dadosND[(dadosND.V4622 > 4)]\n",
    "ut1rND = pd.crosstab(dados5rND.TV,dados5rND.NET,normalize=\"index\").round(decimals=2)\n",
    "plot = ut1rND.plot(kind='bar',title='Nordeste: Frequencia de TVxNET em renda maior que 3 Salarios Minimos',figsize=(6, 6),color=('b','g','r'),stacked=True)\n",
    "plt.ylabel('Freq Relativa')\n",
    "plt.xlabel('Tipo de TV')\n",
    "ut1rND"
   ]
  },
  {
   "cell_type": "markdown",
   "metadata": {},
   "source": [
    "___\n",
    "## Norte"
   ]
  },
  {
   "cell_type": "code",
   "execution_count": 297,
   "metadata": {},
   "outputs": [
    {
     "name": "stderr",
     "output_type": "stream",
     "text": [
      "C:\\Users\\pheli\\Anaconda3\\lib\\site-packages\\ipykernel\\__main__.py:18: SettingWithCopyWarning: \n",
      "A value is trying to be set on a copy of a slice from a DataFrame.\n",
      "Try using .loc[row_indexer,col_indexer] = value instead\n",
      "\n",
      "See the caveats in the documentation: http://pandas.pydata.org/pandas-docs/stable/indexing.html#indexing-view-versus-copy\n",
      "C:\\Users\\pheli\\Anaconda3\\lib\\site-packages\\ipykernel\\__main__.py:19: SettingWithCopyWarning: \n",
      "A value is trying to be set on a copy of a slice from a DataFrame.\n",
      "Try using .loc[row_indexer,col_indexer] = value instead\n",
      "\n",
      "See the caveats in the documentation: http://pandas.pydata.org/pandas-docs/stable/indexing.html#indexing-view-versus-copy\n",
      "C:\\Users\\pheli\\Anaconda3\\lib\\site-packages\\pandas\\core\\generic.py:2773: SettingWithCopyWarning: \n",
      "A value is trying to be set on a copy of a slice from a DataFrame.\n",
      "Try using .loc[row_indexer,col_indexer] = value instead\n",
      "\n",
      "See the caveats in the documentation: http://pandas.pydata.org/pandas-docs/stable/indexing.html#indexing-view-versus-copy\n",
      "  self[name] = value\n"
     ]
    }
   ],
   "source": [
    "dados1 = dados[((dados.UF<=17) & (dados.UF>= 11)) & ( (dados.V02272 > 0) | ((dados.V02273 == 1) | (dados.V02273 == 3)) | (dados.V02274 > 0)) & (((dados.V02424==1)|(dados.V02274 == 3)) | (dados.V02425 > 0) | (dados.V02426 > 0))]\n",
    "#dados (Região Norte & Que possua qualquer tipo de sinal de TV & Que possual qualquer tipo de sinal de Internet)\n",
    "\n",
    "\n",
    "dados2 = dados1[[\"UF\",\"V02272\",\"V02273\",\"V02274\",\"V02424\",\"V02425\",\"V02426\",\"V4622\"]]\n",
    "dados2 = dados2.dropna(how='any')\n",
    "dados3 = dados2\n",
    "\n",
    "\n",
    "TV = dados3.apply(MelhorTV,axis=1)\n",
    "NET = dados3.apply(MelhorNET,axis=1)\n",
    "\n",
    "dados3[\"TV\"] = TV\n",
    "dados3[\"NET\"] = NET\n",
    "\n",
    "\n",
    "dadosN = dados2[[\"UF\",\"V4622\"]]\n",
    "dadosN[\"TV\"] = dados3[\"TV\"]\n",
    "dadosN[\"NET\"] = dados3[\"NET\"]\n",
    "\n",
    "\n",
    "dadosN.NET = dados4.NET.astype(\"category\")\n",
    "dadosN.TV = dados4.TV.astype(\"category\")\n",
    "\n",
    "dadosN.NET.cat.categories=([\"Discada\",\"3G/4G\",\"Banda Larga\"])\n",
    "dadosN.TV.cat.categories=(\"Sem Sinal\", \"Aberta\", \"Antena\", \"Assinatura\")"
   ]
  },
  {
   "cell_type": "code",
   "execution_count": 298,
   "metadata": {},
   "outputs": [
    {
     "data": {
      "text/html": [
       "<div>\n",
       "<table border=\"1\" class=\"dataframe\">\n",
       "  <thead>\n",
       "    <tr style=\"text-align: right;\">\n",
       "      <th>NET</th>\n",
       "      <th>Discada</th>\n",
       "      <th>3G/4G</th>\n",
       "      <th>Banda Larga</th>\n",
       "    </tr>\n",
       "    <tr>\n",
       "      <th>TV</th>\n",
       "      <th></th>\n",
       "      <th></th>\n",
       "      <th></th>\n",
       "    </tr>\n",
       "  </thead>\n",
       "  <tbody>\n",
       "    <tr>\n",
       "      <th>Sem Sinal</th>\n",
       "      <td>0.09</td>\n",
       "      <td>0.89</td>\n",
       "      <td>0.02</td>\n",
       "    </tr>\n",
       "    <tr>\n",
       "      <th>Aberta</th>\n",
       "      <td>0.13</td>\n",
       "      <td>0.85</td>\n",
       "      <td>0.02</td>\n",
       "    </tr>\n",
       "    <tr>\n",
       "      <th>Antena</th>\n",
       "      <td>0.20</td>\n",
       "      <td>0.75</td>\n",
       "      <td>0.05</td>\n",
       "    </tr>\n",
       "    <tr>\n",
       "      <th>Assinatura</th>\n",
       "      <td>0.23</td>\n",
       "      <td>0.73</td>\n",
       "      <td>0.04</td>\n",
       "    </tr>\n",
       "  </tbody>\n",
       "</table>\n",
       "</div>"
      ],
      "text/plain": [
       "NET         Discada  3G/4G  Banda Larga\n",
       "TV                                     \n",
       "Sem Sinal      0.09   0.89         0.02\n",
       "Aberta         0.13   0.85         0.02\n",
       "Antena         0.20   0.75         0.05\n",
       "Assinatura     0.23   0.73         0.04"
      ]
     },
     "execution_count": 298,
     "metadata": {},
     "output_type": "execute_result"
    },
    {
     "data": {
      "image/png": "[encoded data removed]",
      "text/plain": [
       "<matplotlib.figure.Figure at 0x1eb11a9b5f8>"
      ]
     },
     "metadata": {},
     "output_type": "display_data"
    }
   ],
   "source": [
    "ut1N = pd.crosstab(dadosN.TV,dadosN.NET,normalize=\"index\").round(decimals=2)\n",
    "plot = ut1N.plot(kind='bar',title='Norte: Frequencia de Qualidade de Internet em cada Plano de TV',figsize=(6, 6),color=('b','g','r'),stacked=True)\n",
    "plt.ylabel('Freq Relativa')\n",
    "plt.xlabel('Tipo de TV')\n",
    "ut1N"
   ]
  },
  {
   "cell_type": "code",
   "execution_count": 299,
   "metadata": {},
   "outputs": [
    {
     "data": {
      "text/html": [
       "<div>\n",
       "<table border=\"1\" class=\"dataframe\">\n",
       "  <thead>\n",
       "    <tr style=\"text-align: right;\">\n",
       "      <th>TV</th>\n",
       "      <th>Sem Sinal</th>\n",
       "      <th>Aberta</th>\n",
       "      <th>Antena</th>\n",
       "      <th>Assinatura</th>\n",
       "    </tr>\n",
       "    <tr>\n",
       "      <th>NET</th>\n",
       "      <th></th>\n",
       "      <th></th>\n",
       "      <th></th>\n",
       "      <th></th>\n",
       "    </tr>\n",
       "  </thead>\n",
       "  <tbody>\n",
       "    <tr>\n",
       "      <th>Discada</th>\n",
       "      <td>0.12</td>\n",
       "      <td>0.16</td>\n",
       "      <td>0.27</td>\n",
       "      <td>0.45</td>\n",
       "    </tr>\n",
       "    <tr>\n",
       "      <th>3G/4G</th>\n",
       "      <td>0.26</td>\n",
       "      <td>0.23</td>\n",
       "      <td>0.21</td>\n",
       "      <td>0.31</td>\n",
       "    </tr>\n",
       "    <tr>\n",
       "      <th>Banda Larga</th>\n",
       "      <td>0.15</td>\n",
       "      <td>0.13</td>\n",
       "      <td>0.32</td>\n",
       "      <td>0.40</td>\n",
       "    </tr>\n",
       "  </tbody>\n",
       "</table>\n",
       "</div>"
      ],
      "text/plain": [
       "TV           Sem Sinal  Aberta  Antena  Assinatura\n",
       "NET                                               \n",
       "Discada           0.12    0.16    0.27        0.45\n",
       "3G/4G             0.26    0.23    0.21        0.31\n",
       "Banda Larga       0.15    0.13    0.32        0.40"
      ]
     },
     "execution_count": 299,
     "metadata": {},
     "output_type": "execute_result"
    },
    {
     "data": {
      "image/png": "[encoded data removed]",
      "text/plain": [
       "<matplotlib.figure.Figure at 0x1eb11c15550>"
      ]
     },
     "metadata": {},
     "output_type": "display_data"
    }
   ],
   "source": [
    "ut2N = pd.crosstab(dadosN.NET,dadosN.TV,normalize=\"index\").round(decimals=2)\n",
    "plot = ut2N.plot(kind='bar',title='Norte: Frequencia de Qualidade de TV em cada Plano de Internet',figsize=(6, 6),color=('y','g','r','b'),stacked=True)\n",
    "plt.ylabel('Freq Relativa')\n",
    "plt.xlabel('Tipo de NET')\n",
    "ut2N"
   ]
  },
  {
   "cell_type": "code",
   "execution_count": 300,
   "metadata": {},
   "outputs": [
    {
     "data": {
      "text/html": [
       "<div>\n",
       "<table border=\"1\" class=\"dataframe\">\n",
       "  <thead>\n",
       "    <tr style=\"text-align: right;\">\n",
       "      <th>NET</th>\n",
       "      <th>Discada</th>\n",
       "      <th>3G/4G</th>\n",
       "      <th>Banda Larga</th>\n",
       "    </tr>\n",
       "    <tr>\n",
       "      <th>TV</th>\n",
       "      <th></th>\n",
       "      <th></th>\n",
       "      <th></th>\n",
       "    </tr>\n",
       "  </thead>\n",
       "  <tbody>\n",
       "    <tr>\n",
       "      <th>Sem Sinal</th>\n",
       "      <td>0.08</td>\n",
       "      <td>0.90</td>\n",
       "      <td>0.02</td>\n",
       "    </tr>\n",
       "    <tr>\n",
       "      <th>Aberta</th>\n",
       "      <td>0.11</td>\n",
       "      <td>0.87</td>\n",
       "      <td>0.02</td>\n",
       "    </tr>\n",
       "    <tr>\n",
       "      <th>Antena</th>\n",
       "      <td>0.19</td>\n",
       "      <td>0.76</td>\n",
       "      <td>0.04</td>\n",
       "    </tr>\n",
       "    <tr>\n",
       "      <th>Assinatura</th>\n",
       "      <td>0.21</td>\n",
       "      <td>0.76</td>\n",
       "      <td>0.03</td>\n",
       "    </tr>\n",
       "  </tbody>\n",
       "</table>\n",
       "</div>"
      ],
      "text/plain": [
       "NET         Discada  3G/4G  Banda Larga\n",
       "TV                                     \n",
       "Sem Sinal      0.08   0.90         0.02\n",
       "Aberta         0.11   0.87         0.02\n",
       "Antena         0.19   0.76         0.04\n",
       "Assinatura     0.21   0.76         0.03"
      ]
     },
     "execution_count": 300,
     "metadata": {},
     "output_type": "execute_result"
    },
    {
     "data": {
      "image/png": "[encoded data removed]",
      "text/plain": [
       "<matplotlib.figure.Figure at 0x1eb13396390>"
      ]
     },
     "metadata": {},
     "output_type": "display_data"
    }
   ],
   "source": [
    "dados5pN = dadosN[(dadosN.V4622 < 5)]\n",
    "ut1pN = pd.crosstab(dados5pN.TV,dados5pN.NET,normalize=\"index\").round(decimals=2)\n",
    "plot = ut1pN.plot(kind='bar',title='Norte: Frequencia de TVxNET em renda menor que 3 Salarios Minimos',figsize=(6, 6),color=('b','g','r'),stacked=True)\n",
    "plt.ylabel('Freq Relativa')\n",
    "plt.xlabel('Tipo de TV')\n",
    "ut1pN"
   ]
  },
  {
   "cell_type": "code",
   "execution_count": 301,
   "metadata": {},
   "outputs": [
    {
     "data": {
      "text/html": [
       "<div>\n",
       "<table border=\"1\" class=\"dataframe\">\n",
       "  <thead>\n",
       "    <tr style=\"text-align: right;\">\n",
       "      <th>NET</th>\n",
       "      <th>Discada</th>\n",
       "      <th>3G/4G</th>\n",
       "      <th>Banda Larga</th>\n",
       "    </tr>\n",
       "    <tr>\n",
       "      <th>TV</th>\n",
       "      <th></th>\n",
       "      <th></th>\n",
       "      <th></th>\n",
       "    </tr>\n",
       "  </thead>\n",
       "  <tbody>\n",
       "    <tr>\n",
       "      <th>Sem Sinal</th>\n",
       "      <td>0.17</td>\n",
       "      <td>0.74</td>\n",
       "      <td>0.09</td>\n",
       "    </tr>\n",
       "    <tr>\n",
       "      <th>Aberta</th>\n",
       "      <td>0.19</td>\n",
       "      <td>0.77</td>\n",
       "      <td>0.03</td>\n",
       "    </tr>\n",
       "    <tr>\n",
       "      <th>Antena</th>\n",
       "      <td>0.25</td>\n",
       "      <td>0.67</td>\n",
       "      <td>0.08</td>\n",
       "    </tr>\n",
       "    <tr>\n",
       "      <th>Assinatura</th>\n",
       "      <td>0.26</td>\n",
       "      <td>0.69</td>\n",
       "      <td>0.05</td>\n",
       "    </tr>\n",
       "  </tbody>\n",
       "</table>\n",
       "</div>"
      ],
      "text/plain": [
       "NET         Discada  3G/4G  Banda Larga\n",
       "TV                                     \n",
       "Sem Sinal      0.17   0.74         0.09\n",
       "Aberta         0.19   0.77         0.03\n",
       "Antena         0.25   0.67         0.08\n",
       "Assinatura     0.26   0.69         0.05"
      ]
     },
     "execution_count": 301,
     "metadata": {},
     "output_type": "execute_result"
    },
    {
     "data": {
      "image/png": "[encoded data removed]",
      "text/plain": [
       "<matplotlib.figure.Figure at 0x1eb469b1208>"
      ]
     },
     "metadata": {},
     "output_type": "display_data"
    }
   ],
   "source": [
    "dados5rN = dadosN[(dadosN.V4622 > 4)]\n",
    "ut1rN = pd.crosstab(dados5rN.TV,dados5rN.NET,normalize=\"index\").round(decimals=2)\n",
    "plot = ut1rN.plot(kind='bar',title='Norte: Frequencia de TVxNET em renda maior que 3 Salarios Minimos',figsize=(6, 6),color=('b','g','r'),stacked=True)\n",
    "plt.ylabel('Freq Relativa')\n",
    "plt.xlabel('Tipo de TV')\n",
    "ut1rN"
   ]
  },
  {
   "cell_type": "markdown",
   "metadata": {},
   "source": [
    "___\n",
    "A analise individual de cada uma das outras 4 regiões não nos revelam nada muito diferente, vamos agora fazer uma analise comparativa entre as regiões\n",
    "\n",
    "Como alvo de nosso estudo, vamos focar os domicilios com acesso a TV por Assinatura\n",
    "___"
   ]
  },
  {
   "cell_type": "code",
   "execution_count": 302,
   "metadata": {
    "collapsed": true
   },
   "outputs": [],
   "source": [
    "def dadosReg(df):\n",
    "    if((df[\"UF\"] > 10) & (df[\"UF\"] < 20)): return \"Norte\"\n",
    "    elif(df[\"UF\"] < 30): return \"Nordeste\"\n",
    "    elif(df[\"UF\"] < 40): return \"Sudeste\"\n",
    "    elif(df[\"UF\"] < 50): return \"Sul\"\n",
    "    else: return \"Centro\""
   ]
  },
  {
   "cell_type": "code",
   "execution_count": 303,
   "metadata": {},
   "outputs": [],
   "source": [
    "Regiao = dados.apply(dadosReg,axis=1)\n",
    "TV = dados.apply(MelhorTV,axis=1)\n",
    "NET = dados.apply(MelhorNET,axis=1)\n",
    "dados[\"Regiao\"] = Regiao\n",
    "dados[\"TV\"] = TV\n",
    "dados[\"NET\"] = NET\n",
    "dadosCom = dados[[\"Regiao\",\"TV\",\"NET\"]]\n",
    "dadosCom = dadosCom[(dadosCom.TV == 3)]"
   ]
  },
  {
   "cell_type": "code",
   "execution_count": 304,
   "metadata": {},
   "outputs": [],
   "source": [
    "dadosCom.NET = dadosCom.NET.astype(\"category\")\n",
    "dadosCom.NET.cat.categories=([\"Sem Acesso\",\"Discada\",\"3G/4G\",\"Banda Larga\"])"
   ]
  },
  {
   "cell_type": "code",
   "execution_count": 305,
   "metadata": {},
   "outputs": [
    {
     "data": {
      "text/html": [
       "<div>\n",
       "<table border=\"1\" class=\"dataframe\">\n",
       "  <thead>\n",
       "    <tr style=\"text-align: right;\">\n",
       "      <th>NET</th>\n",
       "      <th>Sem Acesso</th>\n",
       "      <th>Discada</th>\n",
       "      <th>3G/4G</th>\n",
       "      <th>Banda Larga</th>\n",
       "    </tr>\n",
       "    <tr>\n",
       "      <th>Regiao</th>\n",
       "      <th></th>\n",
       "      <th></th>\n",
       "      <th></th>\n",
       "      <th></th>\n",
       "    </tr>\n",
       "  </thead>\n",
       "  <tbody>\n",
       "    <tr>\n",
       "      <th>Centro</th>\n",
       "      <td>0.13</td>\n",
       "      <td>0.23</td>\n",
       "      <td>0.61</td>\n",
       "      <td>0.03</td>\n",
       "    </tr>\n",
       "    <tr>\n",
       "      <th>Nordeste</th>\n",
       "      <td>0.16</td>\n",
       "      <td>0.27</td>\n",
       "      <td>0.55</td>\n",
       "      <td>0.02</td>\n",
       "    </tr>\n",
       "    <tr>\n",
       "      <th>Norte</th>\n",
       "      <td>0.20</td>\n",
       "      <td>0.18</td>\n",
       "      <td>0.59</td>\n",
       "      <td>0.03</td>\n",
       "    </tr>\n",
       "    <tr>\n",
       "      <th>Sudeste</th>\n",
       "      <td>0.15</td>\n",
       "      <td>0.22</td>\n",
       "      <td>0.60</td>\n",
       "      <td>0.03</td>\n",
       "    </tr>\n",
       "    <tr>\n",
       "      <th>Sul</th>\n",
       "      <td>0.13</td>\n",
       "      <td>0.33</td>\n",
       "      <td>0.51</td>\n",
       "      <td>0.02</td>\n",
       "    </tr>\n",
       "  </tbody>\n",
       "</table>\n",
       "</div>"
      ],
      "text/plain": [
       "NET       Sem Acesso  Discada  3G/4G  Banda Larga\n",
       "Regiao                                           \n",
       "Centro          0.13     0.23   0.61         0.03\n",
       "Nordeste        0.16     0.27   0.55         0.02\n",
       "Norte           0.20     0.18   0.59         0.03\n",
       "Sudeste         0.15     0.22   0.60         0.03\n",
       "Sul             0.13     0.33   0.51         0.02"
      ]
     },
     "execution_count": 305,
     "metadata": {},
     "output_type": "execute_result"
    },
    {
     "data": {
      "image/png": "[encoded data removed]",
      "text/plain": [
       "<matplotlib.figure.Figure at 0x1eb11b091d0>"
      ]
     },
     "metadata": {},
     "output_type": "display_data"
    }
   ],
   "source": [
    "utCom = pd.crosstab(dadosCom.Regiao,dadosCom.NET,normalize=\"index\").round(decimals=2)\n",
    "plot = utCom.plot(kind='bar',title='Grafico Comparativo da frequencia de qualidade de Internet',figsize=(6, 6),color=('y','g','r',\"b\"),stacked=True)\n",
    "plt.ylabel('Freq Relativa')\n",
    "plt.xlabel('Região')\n",
    "utCom"
   ]
  },
  {
   "cell_type": "markdown",
   "metadata": {
    "collapsed": true
   },
   "source": [
    "___\n",
    "A analise comparativa continua indicando não existir nenhuma relação entre o consumo de TV e Internet\n",
    "\n",
    "Mas nos mostra que a maioria dos Brasileiros acessam a internet principalmente por 3G e 4G, assim como podemos ver mais claramente no grafico abaixo\n",
    "___"
   ]
  },
  {
   "cell_type": "code",
   "execution_count": 338,
   "metadata": {},
   "outputs": [
    {
     "data": {
      "image/png": "[encoded data removed]",
      "text/plain": [
       "<matplotlib.figure.Figure at 0x1eb1367deb8>"
      ]
     },
     "metadata": {},
     "output_type": "display_data"
    }
   ],
   "source": [
    "utPie = pd.crosstab(dadosCom.TV,dadosCom.NET,normalize=\"index\").round(decimals=2).T\n",
    "plot = utPie.plot(kind='pie',subplots=True, title='Tipo de Acesso a Internet no Brasil',autopct='%.1f',figsize=(6, 6),legend=False)"
   ]
  },
  {
   "cell_type": "markdown",
   "metadata": {
    "collapsed": true
   },
   "source": [
    "___\n",
    "E por fim, na esperança de encontrar algo interessante, vamos fazer uma analise ao longo de 3 anos, usando de amostra os domicilios com TV por assinatura em todo o pais\n",
    "___"
   ]
  },
  {
   "cell_type": "code",
   "execution_count": 360,
   "metadata": {},
   "outputs": [
    {
     "name": "stderr",
     "output_type": "stream",
     "text": [
      "C:\\Users\\pheli\\Anaconda3\\lib\\site-packages\\ipykernel\\__main__.py:19: SettingWithCopyWarning: \n",
      "A value is trying to be set on a copy of a slice from a DataFrame.\n",
      "Try using .loc[row_indexer,col_indexer] = value instead\n",
      "\n",
      "See the caveats in the documentation: http://pandas.pydata.org/pandas-docs/stable/indexing.html#indexing-view-versus-copy\n",
      "C:\\Users\\pheli\\Anaconda3\\lib\\site-packages\\ipykernel\\__main__.py:20: SettingWithCopyWarning: \n",
      "A value is trying to be set on a copy of a slice from a DataFrame.\n",
      "Try using .loc[row_indexer,col_indexer] = value instead\n",
      "\n",
      "See the caveats in the documentation: http://pandas.pydata.org/pandas-docs/stable/indexing.html#indexing-view-versus-copy\n",
      "C:\\Users\\pheli\\Anaconda3\\lib\\site-packages\\pandas\\core\\generic.py:2773: SettingWithCopyWarning: \n",
      "A value is trying to be set on a copy of a slice from a DataFrame.\n",
      "Try using .loc[row_indexer,col_indexer] = value instead\n",
      "\n",
      "See the caveats in the documentation: http://pandas.pydata.org/pandas-docs/stable/indexing.html#indexing-view-versus-copy\n",
      "  self[name] = value\n"
     ]
    },
    {
     "data": {
      "text/html": [
       "<div>\n",
       "<table border=\"1\" class=\"dataframe\">\n",
       "  <thead>\n",
       "    <tr style=\"text-align: right;\">\n",
       "      <th>TV</th>\n",
       "      <th>0</th>\n",
       "      <th>1</th>\n",
       "      <th>2</th>\n",
       "      <th>3</th>\n",
       "    </tr>\n",
       "    <tr>\n",
       "      <th>NET</th>\n",
       "      <th></th>\n",
       "      <th></th>\n",
       "      <th></th>\n",
       "      <th></th>\n",
       "    </tr>\n",
       "  </thead>\n",
       "  <tbody>\n",
       "    <tr>\n",
       "      <th>Discada</th>\n",
       "      <td>0.27</td>\n",
       "      <td>0.30</td>\n",
       "      <td>0.38</td>\n",
       "      <td>0.35</td>\n",
       "    </tr>\n",
       "    <tr>\n",
       "      <th>3G/4G</th>\n",
       "      <td>0.70</td>\n",
       "      <td>0.68</td>\n",
       "      <td>0.58</td>\n",
       "      <td>0.63</td>\n",
       "    </tr>\n",
       "    <tr>\n",
       "      <th>Banda Larga</th>\n",
       "      <td>0.03</td>\n",
       "      <td>0.02</td>\n",
       "      <td>0.04</td>\n",
       "      <td>0.03</td>\n",
       "    </tr>\n",
       "  </tbody>\n",
       "</table>\n",
       "</div>"
      ],
      "text/plain": [
       "TV              0     1     2     3\n",
       "NET                                \n",
       "Discada      0.27  0.30  0.38  0.35\n",
       "3G/4G        0.70  0.68  0.58  0.63\n",
       "Banda Larga  0.03  0.02  0.04  0.03"
      ]
     },
     "execution_count": 360,
     "metadata": {},
     "output_type": "execute_result"
    }
   ],
   "source": [
    "dados = pd.read_csv('DOM2014.csv')\n",
    "dados1 = dados[( (dados.V02272 > 0) | ((dados.V02273 == 1) | (dados.V02273 == 3)) | (dados.V02274 > 0)) & (((dados.V02424==1)|(dados.V02274 == 3)) | (dados.V02425 > 0) | (dados.V02426 > 0))]\n",
    "#dados ( Que possua qualquer tipo de sinal de TV & Que possual qualquer tipo de sinal de Internet)\n",
    "\n",
    "\n",
    "dados2 = dados1[[\"V02272\",\"V02273\",\"V02274\",\"V02424\",\"V02425\",\"V02426\",\"V4622\"]]\n",
    "dados2 = dados2.dropna(how='any')\n",
    "dados3 = dados2\n",
    "\n",
    "\n",
    "TV = dados3.apply(MelhorTV,axis=1)\n",
    "NET = dados3.apply(MelhorNET,axis=1)\n",
    "\n",
    "dados3[\"TV\"] = TV\n",
    "dados3[\"NET\"] = NET\n",
    "\n",
    "\n",
    "dados2014 = dados2[[\"V4622\"]]\n",
    "dados2014[\"TV\"] = dados3[\"TV\"]\n",
    "dados2014[\"NET\"] = dados3[\"NET\"]\n",
    "\n",
    "#dados2014.TV = dados2014[(dados2014.TV == 3)]\n",
    "\n",
    "dados2014.NET = dados2014.NET.astype(\"category\")\n",
    "\n",
    "dados2014.NET.cat.categories=([\"Discada\",\"3G/4G\",\"Banda Larga\"])\n",
    "\n",
    "ut = pd.crosstab(dados2014.TV,dados2014.NET,normalize=\"index\").round(decimals=2).T\n",
    "ut"
   ]
  },
  {
   "cell_type": "code",
   "execution_count": 378,
   "metadata": {},
   "outputs": [
    {
     "name": "stderr",
     "output_type": "stream",
     "text": [
      "C:\\Users\\pheli\\Anaconda3\\lib\\site-packages\\ipykernel\\__main__.py:19: SettingWithCopyWarning: \n",
      "A value is trying to be set on a copy of a slice from a DataFrame.\n",
      "Try using .loc[row_indexer,col_indexer] = value instead\n",
      "\n",
      "See the caveats in the documentation: http://pandas.pydata.org/pandas-docs/stable/indexing.html#indexing-view-versus-copy\n",
      "C:\\Users\\pheli\\Anaconda3\\lib\\site-packages\\ipykernel\\__main__.py:20: SettingWithCopyWarning: \n",
      "A value is trying to be set on a copy of a slice from a DataFrame.\n",
      "Try using .loc[row_indexer,col_indexer] = value instead\n",
      "\n",
      "See the caveats in the documentation: http://pandas.pydata.org/pandas-docs/stable/indexing.html#indexing-view-versus-copy\n",
      "C:\\Users\\pheli\\Anaconda3\\lib\\site-packages\\pandas\\core\\generic.py:2773: SettingWithCopyWarning: \n",
      "A value is trying to be set on a copy of a slice from a DataFrame.\n",
      "Try using .loc[row_indexer,col_indexer] = value instead\n",
      "\n",
      "See the caveats in the documentation: http://pandas.pydata.org/pandas-docs/stable/indexing.html#indexing-view-versus-copy\n",
      "  self[name] = value\n"
     ]
    },
    {
     "data": {
      "text/html": [
       "<div>\n",
       "<table border=\"1\" class=\"dataframe\">\n",
       "  <thead>\n",
       "    <tr style=\"text-align: right;\">\n",
       "      <th>TV</th>\n",
       "      <th>0</th>\n",
       "      <th>1</th>\n",
       "      <th>2</th>\n",
       "      <th>3</th>\n",
       "    </tr>\n",
       "    <tr>\n",
       "      <th>NET</th>\n",
       "      <th></th>\n",
       "      <th></th>\n",
       "      <th></th>\n",
       "      <th></th>\n",
       "    </tr>\n",
       "  </thead>\n",
       "  <tbody>\n",
       "    <tr>\n",
       "      <th>Discada</th>\n",
       "      <td>0.46</td>\n",
       "      <td>0.50</td>\n",
       "      <td>0.56</td>\n",
       "      <td>0.51</td>\n",
       "    </tr>\n",
       "    <tr>\n",
       "      <th>3G/4G</th>\n",
       "      <td>0.50</td>\n",
       "      <td>0.47</td>\n",
       "      <td>0.38</td>\n",
       "      <td>0.44</td>\n",
       "    </tr>\n",
       "    <tr>\n",
       "      <th>Banda Larga</th>\n",
       "      <td>0.05</td>\n",
       "      <td>0.04</td>\n",
       "      <td>0.06</td>\n",
       "      <td>0.04</td>\n",
       "    </tr>\n",
       "  </tbody>\n",
       "</table>\n",
       "</div>"
      ],
      "text/plain": [
       "TV              0     1     2     3\n",
       "NET                                \n",
       "Discada      0.46  0.50  0.56  0.51\n",
       "3G/4G        0.50  0.47  0.38  0.44\n",
       "Banda Larga  0.05  0.04  0.06  0.04"
      ]
     },
     "execution_count": 378,
     "metadata": {},
     "output_type": "execute_result"
    }
   ],
   "source": [
    "dados = pd.read_csv('DOM2013.csv')\n",
    "dados1 = dados[( (dados.V02272 > 0) | ((dados.V02273 == 1) | (dados.V02273 == 3)) | (dados.V02274 > 0)) & (((dados.V02424==1)|(dados.V02274 == 3)) | (dados.V02425 > 0) | (dados.V02426 > 0))]\n",
    "#dados ( Que possua qualquer tipo de sinal de TV & Que possual qualquer tipo de sinal de Internet)\n",
    "\n",
    "\n",
    "dados2 = dados1[[\"V02272\",\"V02273\",\"V02274\",\"V02424\",\"V02425\",\"V02426\",\"V4622\"]]\n",
    "dados2 = dados2.dropna(how='any')\n",
    "dados3 = dados2\n",
    "\n",
    "\n",
    "TV = dados3.apply(MelhorTV,axis=1)\n",
    "NET = dados3.apply(MelhorNET,axis=1)\n",
    "\n",
    "dados3[\"TV\"] = TV\n",
    "dados3[\"NET\"] = NET\n",
    "\n",
    "\n",
    "dados2014 = dados2[[\"V4622\"]]\n",
    "dados2014[\"TV\"] = dados3[\"TV\"]\n",
    "dados2014[\"NET\"] = dados3[\"NET\"]\n",
    "\n",
    "#dados2014.TV = dados2014[(dados2014.TV == 3)]\n",
    "\n",
    "dados2014.NET = dados2014.NET.astype(\"category\")\n",
    "\n",
    "dados2014.NET.cat.categories=([\"Discada\",\"3G/4G\",\"Banda Larga\"])\n",
    "\n",
    "ut = pd.crosstab(dados2014.TV,dados2014.NET,normalize=\"index\").round(decimals=2).T\n",
    "ut"
   ]
  },
  {
   "cell_type": "code",
   "execution_count": 376,
   "metadata": {},
   "outputs": [
    {
     "data": {
      "text/plain": [
       "<matplotlib.text.Text at 0x1eb127968d0>"
      ]
     },
     "execution_count": 376,
     "metadata": {},
     "output_type": "execute_result"
    },
    {
     "data": {
      "image/png": "[encoded data removed]",
      "text/plain": [
       "<matplotlib.figure.Figure at 0x1eb19878b70>"
      ]
     },
     "metadata": {},
     "output_type": "display_data"
    }
   ],
   "source": [
    "#Dados de Frequencia Relativa transpostos a mão, devido a dificuldade de trabalhar com Dataframes com tamanhos diferentes\n",
    "#Asseguro que os dados não foram comprometidos no processo\n",
    "utTempo = pd.DataFrame({2013: [0.52,0.44,0.04],\n",
    "                        2014: [0.35,0.63,0.03],\n",
    "                        2015: [0.29,0.67,0.04]},\n",
    "                        index=(\"Discada\",\"3G/4G\",\"Banda Larga\")\n",
    "                        ).T\n",
    "plot = utTempo.plot(kind='bar',title='Frequencia tipos de Internet ao longo do Tempo ',figsize=(6, 6),color=('b','g','r'),stacked=True)\n",
    "plt.ylabel('Freq Relativa')\n",
    "plt.xlabel('Ano')"
   ]
  },
  {
   "cell_type": "markdown",
   "metadata": {
    "collapsed": true
   },
   "source": [
    "___\n",
    "Com a analise temporal é bem visivel o movimento de migração de Internet Discada para 3G/4G\n",
    "___"
   ]
  },
  {
   "cell_type": "markdown",
   "metadata": {
    "collapsed": true
   },
   "source": [
    "## Conclusão\n",
    "\n",
    "Podemos concluir que por mais que não haja um movimento claro de migração de TV para Internet em nenhum contexto geografioco, economico ou social é visivel a migração entre Internet Discada para 3G/4G em todo o pais"
   ]
  }
 ],
 "metadata": {
  "kernelspec": {
   "display_name": "Python 3",
   "language": "python",
   "name": "python3"
  },
  "language_info": {
   "codemirror_mode": {
    "name": "ipython",
    "version": 3
   },
   "file_extension": ".py",
   "mimetype": "text/x-python",
   "name": "python",
   "nbconvert_exporter": "python",
   "pygments_lexer": "ipython3",
   "version": "3.6.0"
  }
 },
 "nbformat": 4,
 "nbformat_minor": 2
}
