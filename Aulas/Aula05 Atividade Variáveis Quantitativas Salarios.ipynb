{
 "cells": [
  {
   "cell_type": "markdown",
   "metadata": {},
   "source": [
    "___\n",
    "# Atividade: Análise Exploratória da variável quantitativa -  Salários\n",
    "___\n",
    "\n",
    "## Aula 04\n",
    "\n",
    "\n",
    "**Preparo prévio:**\n",
    "1. Leitura prévia necessária: Magalhães e Lima (7ª. Edição): pág. 18 a 25; pág. 106 e 107 (Definição 4.1 e Exemplo 4.1); pág. 116 e 117 (Definição 4.4 e Exemplo 4.8). \n",
    "2. Leitura prévia necessária: Montgomery et al (5ª. Edição): pág. 24 a 28.\n",
    "\n",
    "**Hoje:**\n",
    "1. Desenvolver medidas que gerem informações para interpretação de variáveis quantitativas.\n",
    "2. Interpretar o comportamento de uma variável quantitativa a partir dos formatos de um histograma e/ou um box-plot.\n",
    "3. Comparar cenários, a partir dos gráficos e medidas calculadas, para tomada de decisão.\n",
    "\n",
    "\n",
    "**Próxima aula:**\n",
    "1. Leitura prévia necessária: Montgomery et al (5ª. Edição) - Seção 2.6: Dados Multivariados.\n",
    "___"
   ]
  },
  {
   "cell_type": "markdown",
   "metadata": {},
   "source": [
    "** Atenção **\n",
    "\n",
    "Este notebook não vai ser entregue/verificado, mas você deve fazê-lo para garantir uma melhor assimilação dos conteúdos."
   ]
  },
  {
   "cell_type": "markdown",
   "metadata": {},
   "source": [
    "## <font color='blue'>Salários de profissionais</font>\n",
    "\n",
    "A base de dados `Salarios.txt` apresenta salários de quatro profissões diferentes, aqui, nomeadas de: A, B, C e D. \n",
    "\n",
    "Considere que esses salários foram mensurados para mil trabalhadores escolhidos aleatoriamente dentro de cada profissão. \n",
    "\n",
    "O arquivo `Salarios.xlsx` contém essas informações.\n",
    "\n",
    "Considerando esses dados, faça as seguintes tarefas:\n",
    "\n",
    "1. Calcule as medidas resumo principais (de posição e de dispersão). \n",
    "\n",
    "2. Calcule os percentis de 10% a 90% dos salários de cada profissão.\n",
    "\n",
    "3. Construa o gráfico de boxplot  para cada profissão e interprete-o.\n",
    "\n",
    "4. Construa um histograma com os salários de cada profissão e interprete-o.\n",
    "\n",
    "5. Descreva a particularidade de cada gráfico para auxiliar na interpretação e compreensão do comportamento dos dados.\n",
    "___"
   ]
  },
  {
   "cell_type": "code",
   "execution_count": 1,
   "metadata": {},
   "outputs": [],
   "source": [
    "%matplotlib inline\n",
    "import pandas as pd\n",
    "import matplotlib.pyplot as plt\n",
    "import numpy as np\n",
    "import os"
   ]
  },
  {
   "cell_type": "code",
   "execution_count": 2,
   "metadata": {},
   "outputs": [
    {
     "name": "stdout",
     "output_type": "stream",
     "text": [
      "Esperamos trabalhar no diretório\n",
      "C:\\Users\\pheli\\OneDrive\\Documentos\n"
     ]
    }
   ],
   "source": [
    "print('Esperamos trabalhar no diretório')\n",
    "print(os.getcwd())"
   ]
  },
  {
   "cell_type": "code",
   "execution_count": 8,
   "metadata": {},
   "outputs": [
    {
     "data": {
      "text/html": [
       "<div>\n",
       "<table border=\"1\" class=\"dataframe\">\n",
       "  <thead>\n",
       "    <tr style=\"text-align: right;\">\n",
       "      <th></th>\n",
       "      <th>A</th>\n",
       "      <th>B</th>\n",
       "      <th>C</th>\n",
       "      <th>D</th>\n",
       "    </tr>\n",
       "  </thead>\n",
       "  <tbody>\n",
       "    <tr>\n",
       "      <th>count</th>\n",
       "      <td>1000.000000</td>\n",
       "      <td>1000.000000</td>\n",
       "      <td>1000.000000</td>\n",
       "      <td>1000.000000</td>\n",
       "    </tr>\n",
       "    <tr>\n",
       "      <th>mean</th>\n",
       "      <td>4683.116910</td>\n",
       "      <td>4470.739760</td>\n",
       "      <td>4207.062150</td>\n",
       "      <td>3252.781340</td>\n",
       "    </tr>\n",
       "    <tr>\n",
       "      <th>std</th>\n",
       "      <td>1217.427775</td>\n",
       "      <td>1206.365793</td>\n",
       "      <td>1880.275849</td>\n",
       "      <td>1285.510735</td>\n",
       "    </tr>\n",
       "    <tr>\n",
       "      <th>min</th>\n",
       "      <td>806.840000</td>\n",
       "      <td>745.380000</td>\n",
       "      <td>1003.800000</td>\n",
       "      <td>862.290000</td>\n",
       "    </tr>\n",
       "    <tr>\n",
       "      <th>25%</th>\n",
       "      <td>3888.915000</td>\n",
       "      <td>3607.732500</td>\n",
       "      <td>2584.717500</td>\n",
       "      <td>2345.997500</td>\n",
       "    </tr>\n",
       "    <tr>\n",
       "      <th>50%</th>\n",
       "      <td>4838.560000</td>\n",
       "      <td>4486.440000</td>\n",
       "      <td>4264.840000</td>\n",
       "      <td>3076.090000</td>\n",
       "    </tr>\n",
       "    <tr>\n",
       "      <th>75%</th>\n",
       "      <td>5608.157500</td>\n",
       "      <td>5332.467500</td>\n",
       "      <td>5891.862500</td>\n",
       "      <td>3895.955000</td>\n",
       "    </tr>\n",
       "    <tr>\n",
       "      <th>max</th>\n",
       "      <td>6966.520000</td>\n",
       "      <td>8540.120000</td>\n",
       "      <td>7492.650000</td>\n",
       "      <td>9570.730000</td>\n",
       "    </tr>\n",
       "  </tbody>\n",
       "</table>\n",
       "</div>"
      ],
      "text/plain": [
       "                 A            B            C            D\n",
       "count  1000.000000  1000.000000  1000.000000  1000.000000\n",
       "mean   4683.116910  4470.739760  4207.062150  3252.781340\n",
       "std    1217.427775  1206.365793  1880.275849  1285.510735\n",
       "min     806.840000   745.380000  1003.800000   862.290000\n",
       "25%    3888.915000  3607.732500  2584.717500  2345.997500\n",
       "50%    4838.560000  4486.440000  4264.840000  3076.090000\n",
       "75%    5608.157500  5332.467500  5891.862500  3895.955000\n",
       "max    6966.520000  8540.120000  7492.650000  9570.730000"
      ]
     },
     "execution_count": 8,
     "metadata": {},
     "output_type": "execute_result"
    }
   ],
   "source": [
    "Sal = pd.read_table('Salario.txt', sep=' ')\n",
    "Sal.describe()"
   ]
  },
  {
   "cell_type": "code",
   "execution_count": 9,
   "metadata": {},
   "outputs": [
    {
     "data": {
      "text/html": [
       "<div>\n",
       "<table border=\"1\" class=\"dataframe\">\n",
       "  <thead>\n",
       "    <tr style=\"text-align: right;\">\n",
       "      <th></th>\n",
       "      <th>A</th>\n",
       "      <th>B</th>\n",
       "      <th>C</th>\n",
       "      <th>D</th>\n",
       "    </tr>\n",
       "  </thead>\n",
       "  <tbody>\n",
       "    <tr>\n",
       "      <th>0</th>\n",
       "      <td>NaN</td>\n",
       "      <td>4959.34</td>\n",
       "      <td>2401.22</td>\n",
       "      <td>2258.49</td>\n",
       "    </tr>\n",
       "    <tr>\n",
       "      <th>1</th>\n",
       "      <td>NaN</td>\n",
       "      <td>5664.80</td>\n",
       "      <td>NaN</td>\n",
       "      <td>NaN</td>\n",
       "    </tr>\n",
       "  </tbody>\n",
       "</table>\n",
       "</div>"
      ],
      "text/plain": [
       "    A        B        C        D\n",
       "0 NaN  4959.34  2401.22  2258.49\n",
       "1 NaN  5664.80      NaN      NaN"
      ]
     },
     "execution_count": 9,
     "metadata": {},
     "output_type": "execute_result"
    }
   ],
   "source": [
    "Sal.mode()"
   ]
  },
  {
   "cell_type": "code",
   "execution_count": 21,
   "metadata": {},
   "outputs": [
    {
     "name": "stdout",
     "output_type": "stream",
     "text": [
      "            A         B         C         D\n",
      "0.1  2883.355  2896.849  1535.019  1809.722\n",
      "\n",
      "           A         B         C         D\n",
      "0.9  6224.15  6009.471  6748.267  4959.339\n"
     ]
    }
   ],
   "source": [
    "print(Sal.quantile(np.arange(.10,.20,.10)))\n",
    "print()\n",
    "print(Sal.quantile(np.arange(.9,1.0,.10)))"
   ]
  },
  {
   "cell_type": "code",
   "execution_count": 23,
   "metadata": {},
   "outputs": [
    {
     "data": {
      "image/png": "[encoded data removed]",
      "text/plain": [
       "<matplotlib.figure.Figure at 0x13f5f1d80b8>"
      ]
     },
     "metadata": {},
     "output_type": "display_data"
    }
   ],
   "source": [
    "plot = Sal.boxplot(column=list(Sal)[1])"
   ]
  },
  {
   "cell_type": "code",
   "execution_count": 24,
   "metadata": {},
   "outputs": [
    {
     "data": {
      "image/png": "[encoded data removed]",
      "text/plain": [
       "<matplotlib.figure.Figure at 0x13f5f275828>"
      ]
     },
     "metadata": {},
     "output_type": "display_data"
    }
   ],
   "source": [
    "plot = Sal.boxplot(column=list(Sal)[2])"
   ]
  },
  {
   "cell_type": "code",
   "execution_count": 25,
   "metadata": {},
   "outputs": [
    {
     "data": {
      "image/png": "[encoded data removed]",
      "text/plain": [
       "<matplotlib.figure.Figure at 0x13f5f000198>"
      ]
     },
     "metadata": {},
     "output_type": "display_data"
    }
   ],
   "source": [
    "plot = Sal.boxplot(column=list(Sal)[3])"
   ]
  },
  {
   "cell_type": "code",
   "execution_count": 27,
   "metadata": {},
   "outputs": [
    {
     "data": {
      "text/plain": [
       "<matplotlib.axes._subplots.AxesSubplot at 0x13f5f38af28>"
      ]
     },
     "execution_count": 27,
     "metadata": {},
     "output_type": "execute_result"
    },
    {
     "data": {
      "image/png": "[encoded data removed]",
      "text/plain": [
       "<matplotlib.figure.Figure at 0x13f5f32bc18>"
      ]
     },
     "metadata": {},
     "output_type": "display_data"
    }
   ],
   "source": [
    "Sal.plot.hist(stacked=False, bins=20)"
   ]
  },
  {
   "cell_type": "code",
   "execution_count": null,
   "metadata": {
    "collapsed": true
   },
   "outputs": [],
   "source": []
  },
  {
   "cell_type": "code",
   "execution_count": 32,
   "metadata": {},
   "outputs": [
    {
     "data": {
      "text/plain": [
       "<matplotlib.axes._subplots.AxesSubplot at 0x13f61950ef0>"
      ]
     },
     "execution_count": 32,
     "metadata": {},
     "output_type": "execute_result"
    },
    {
     "data": {
      "image/png": "[encoded data removed]",
      "text/plain": [
       "<matplotlib.figure.Figure at 0x13f5f7ebdd8>"
      ]
     },
     "metadata": {},
     "output_type": "display_data"
    }
   ],
   "source": [
    "Sal.plot.hist(stacked=True, bins=20)"
   ]
  }
 ],
 "metadata": {
  "anaconda-cloud": {},
  "kernelspec": {
   "display_name": "Python 3",
   "language": "python",
   "name": "python3"
  },
  "language_info": {
   "codemirror_mode": {
    "name": "ipython",
    "version": 3
   },
   "file_extension": ".py",
   "mimetype": "text/x-python",
   "name": "python",
   "nbconvert_exporter": "python",
   "pygments_lexer": "ipython3",
   "version": "3.6.0"
  }
 },
 "nbformat": 4,
 "nbformat_minor": 1
}
