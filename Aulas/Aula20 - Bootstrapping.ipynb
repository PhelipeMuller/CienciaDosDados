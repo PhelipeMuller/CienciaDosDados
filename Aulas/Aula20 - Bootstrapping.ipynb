{
 "cells": [
  {
   "cell_type": "markdown",
   "metadata": {},
   "source": [
    "___\n",
    "# Atividade: Bootstrapping\n",
    "___\n",
    "\n",
    "## Aula 20\n",
    "\n",
    "**Preparo Prévio:**\n",
    "1. Magalhães e Lima, seção 7.4. Concentrar-se em intervalo de confiança para média amostra\n",
    "1. Bootstrapping - https://www.thoughtco.com/example-of-bootstrapping-3126155\n",
    "1. Bootstrapping - https://www.stat.auckland.ac.nz/~wild/BootAnim/\n",
    "\n",
    "**Hoje:**\n",
    "1. Entender e implementar o método não paramétrico de Bootstrapping \n",
    "\n",
    "**Próxima aula:**\n",
    "1. Montogmery. Seção 6-2 - Simple Linear Regression\n",
    "1. Magalhães e Lima, seção 9.5. Regressão Linear Simples\n",
    "\n",
    "___\n",
    "\n",
    "Uma gerente de uma fábrica decidiu recalibrar uma das máquinas da linha de produção para reduzir o seu tempo de execução. A amostra abaixo representa o tempo medido entre a entrada do bloco cru e a saída manufaturada em minutos."
   ]
  },
  {
   "cell_type": "code",
   "execution_count": 2,
   "metadata": {},
   "outputs": [
    {
     "name": "stdout",
     "output_type": "stream",
     "text": [
      "Tamanho da Amostra: 13\n",
      "Média: 0.5453557469230769\n",
      "Desvio Padrão: 0.2547555304406469\n"
     ]
    },
    {
     "data": {
      "image/png": "[encoded data removed]",
      "text/plain": [
       "<matplotlib.figure.Figure at 0x193ac087ef0>"
      ]
     },
     "metadata": {},
     "output_type": "display_data"
    }
   ],
   "source": [
    "%matplotlib inline\n",
    "import pandas as pd\n",
    "import numpy as np\n",
    "from scipy import stats\n",
    "import matplotlib.pyplot as plt\n",
    "\n",
    "x = [0.69689142,  0.57995802,  0.06450754,  0.61206626,  0.91976314,  0.34363861,  0.82575631,  0.41666036,  \n",
    "     0.62153527,  0.56757104,  0.86683518,  0.28922458,  0.28521698]\n",
    "\n",
    "n = len(x)\n",
    "\n",
    "print(\"Tamanho da Amostra: {0}\".format(n))\n",
    "print(\"Média: {0}\".format(np.mean(x)))\n",
    "print(\"Desvio Padrão: {0}\".format(np.std(x, ddof=1)))\n",
    "pd.Series(x).hist(normed=True);"
   ]
  },
  {
   "cell_type": "markdown",
   "metadata": {},
   "source": [
    "Excepcionalmente hoje, os funcionários estavam reclamando de uma lentidão maior, pois o tempo de execução demorava em média 0.68 minutos com um desvio padrão amostral de 0.27 minutos. Usando um nível de significância de 95%, podemos afirmar que há algum problema estrutural?"
   ]
  },
  {
   "cell_type": "code",
   "execution_count": null,
   "metadata": {
    "collapsed": true
   },
   "outputs": [],
   "source": [
    " "
   ]
  },
  {
   "cell_type": "markdown",
   "metadata": {},
   "source": [
    "___\n",
    "Como visto em aulas passadas, para poder realizar esse Teste de Hipóteses, temos as seguintes premissas:\n",
    "\n",
    "$$\\bar{X}=\\frac{X_1+X_2+...+X_n}{n}=\\frac{\\sum_{i=1}^nX_i}{n}$$\n",
    "\n",
    "Onde $X_i$ é uma variável aleatória de uma distribuição **desconhecida**. Se $X_i$ fosse uma normal com **apenas** a variância desconhecida, ou seja, com média $\\mu_X$ conhecida, deveríamos utilizar o teste T. Ou ainda, se n fosse suficientemente grande, poderíamos assumir que $\\bar{X}$ é normal devido ao TLC. <br />\n",
    "Porém sem as premissas anteriores, não é possível realizar alguma inferência sobre $\\bar{X}$ com a metodologia aprendida até o momento.\n",
    "\n",
    "**Resumindo**: Não sabemos qual é a distribuição de $X_i$ e nem a ditribuição de $\\bar{X}$!!!\n",
    "___\n",
    "\n",
    "## Solução: Métodos não paramétricos\n",
    "\n",
    "Bootstrapping é um método de reamostragem com reposição que consiste em recuperar a distribuição de uma medida de interesse a partir de uma amostra mestre. Por exemplo, podemos utilizar a média como medida de interesse, mas a distribuição de outras medidas também pode ser estimadas, como por exemplo variância, mediana, kurtosis, etc.\n",
    "\n",
    "Reamostragem com reposição significa que um mesmo elemento pode ser selecionado várias vezes, assim como outro elemento pode não ser escolhido. Seria equivalente a sortear um número e por de volta na urna.\n",
    "\n",
    "### Como funciona\n",
    "\n",
    "Dada um conjunto com a amostra mestre aleatória $x_1, x_2,..., x_n$ de uma população qualquer, devemos sortear consecultivamente, com reposição, conjuntos de tamanho também n dessa amostra amostra mestre. Esses conjuntos são chamados de reamostragem e esse processo deve ser feito milhares de vezes.\n",
    "\n",
    "A cada reamostragem deve-se aplicar a medida de interesse, nesse caso a média, e guardar em uma lista. Ao fim das milhares de reamostragens, teremos uma distribuição da medida desejada. \n",
    "\n",
    "De posse desta distribuição, podemos calcular o Intervalo de Confiança através dos seus percentis."
   ]
  },
  {
   "cell_type": "markdown",
   "metadata": {},
   "source": [
    "___\n",
    "**Questão 1** - Reconstruir o $\\bar{X}$ usando o bootstrapping.\n",
    "\n",
    "Algoritmo:\n",
    "    1. Repetir 10000 vezes:\n",
    "        1.1. Realizar um sorteio com reposição da amostra mestre. Usar a função choice() do numpy.\n",
    "        1.2. Calcular a média da reamostragem e guardar em uma lista.\n",
    "    2. Plotar o histograma da lista.\n",
    "    3. Exibir a média e o desvio padrão dos elementos da lista."
   ]
  },
  {
   "cell_type": "code",
   "execution_count": 14,
   "metadata": {},
   "outputs": [
    {
     "data": {
      "text/plain": [
       "(array([   11.,   108.,   447.,  1417.,  2530.,  2834.,  1837.,   686.,\n",
       "          120.,    11.]),\n",
       " array([ 0.26458799,  0.31943801,  0.37428802,  0.42913804,  0.48398805,\n",
       "         0.53883807,  0.59368808,  0.6485381 ,  0.70338811,  0.75823813,\n",
       "         0.81308814]),\n",
       " <a list of 10 Patch objects>)"
      ]
     },
     "execution_count": 14,
     "metadata": {},
     "output_type": "execute_result"
    },
    {
     "data": {
      "image/png": "[encoded data removed]",
      "text/plain": [
       "<matplotlib.figure.Figure at 0x193ac182cc0>"
      ]
     },
     "metadata": {},
     "output_type": "display_data"
    }
   ],
   "source": [
    "means = []\n",
    "for i in range(10001):\n",
    "    means.append(np.mean(np.random.choice(x,size=11,replace=True)))\n",
    "hist = plt.hist(means)\n",
    "hist"
   ]
  },
  {
   "cell_type": "code",
   "execution_count": 4,
   "metadata": {},
   "outputs": [
    {
     "name": "stdout",
     "output_type": "stream",
     "text": [
      "Std: 0.07372548540683194\n",
      "média: 0.5464175496403086\n"
     ]
    }
   ],
   "source": [
    "print(\"Std: {0}\".format(np.std(means)))\n",
    "print(\"média: {0}\".format(np.mean(means)))"
   ]
  },
  {
   "cell_type": "markdown",
   "metadata": {},
   "source": [
    "___\n",
    "**Questão 2** - Montar as Hipóteses e o intervalo de confiança para um nível de significância de 95% bicaudal. Responder o problema de inferência."
   ]
  },
  {
   "cell_type": "code",
   "execution_count": 5,
   "metadata": {},
   "outputs": [
    {
     "name": "stdout",
     "output_type": "stream",
     "text": [
      "0.39910947727272733\n",
      "0.6876880154545455\n"
     ]
    }
   ],
   "source": [
    "qm = pd.Series(means).quantile(0.025)\n",
    "qM = pd.Series(means).quantile(0.975)\n",
    "print(qm)\n",
    "print(qM)"
   ]
  },
  {
   "cell_type": "markdown",
   "metadata": {},
   "source": [
    "___\n",
    "**Questão 3** - O fabricante da máquina disse que após a recalibração, a máquina deveria apresentar certo comportamento, onde $X_i$ deveria ser uma variável Beta de parâmetros a=2 e b=2. \n",
    "\n",
    "Realizar 10000 sorteios de amostras de tamanho n da distribuição. Plotar o histograma das médias de cada conjunto de n elementos."
   ]
  },
  {
   "cell_type": "code",
   "execution_count": 6,
   "metadata": {},
   "outputs": [
    {
     "data": {
      "text/plain": [
       "<matplotlib.axes._subplots.AxesSubplot at 0x193ac135048>"
      ]
     },
     "execution_count": 6,
     "metadata": {},
     "output_type": "execute_result"
    },
    {
     "data": {
      "image/png": "[encoded data removed]",
      "text/plain": [
       "<matplotlib.figure.Figure at 0x193ac13a198>"
      ]
     },
     "metadata": {},
     "output_type": "display_data"
    }
   ],
   "source": [
    "Beta = []\n",
    "for i in range(10000):\n",
    "    Beta.append(np.mean(stats.beta.rvs(2,2,size=n)))\n",
    "pd.Series(Beta).hist()"
   ]
  },
  {
   "cell_type": "code",
   "execution_count": 7,
   "metadata": {},
   "outputs": [
    {
     "name": "stdout",
     "output_type": "stream",
     "text": [
      "Média: 0.500041792978555\n",
      "Std: 0.0620529000507947\n"
     ]
    }
   ],
   "source": [
    "print(\"Média: {0}\".format(pd.Series(Beta).mean()))\n",
    "print(\"Std: {0}\".format(pd.Series(Beta).std()))"
   ]
  },
  {
   "cell_type": "markdown",
   "metadata": {},
   "source": [
    "___\n",
    "**Questão 4** - Analisar os dois histogramas feitos anteriormente e comentar os resultados. Há viés (bias) na estimativa do Bootstrapping?"
   ]
  },
  {
   "cell_type": "code",
   "execution_count": null,
   "metadata": {
    "collapsed": true
   },
   "outputs": [],
   "source": []
  },
  {
   "cell_type": "markdown",
   "metadata": {
    "collapsed": true
   },
   "source": [
    "___\n",
    "## Para ir além...\n",
    "\n",
    "Como dito na aula, podemos utilizar outras medidas de interesse nesta técnica.\n",
    "\n",
    "**Questão 5** - Repetir todos os passos da inferência, porém aplicando-a sobre a **variância**."
   ]
  },
  {
   "cell_type": "code",
   "execution_count": null,
   "metadata": {
    "collapsed": true
   },
   "outputs": [],
   "source": []
  }
 ],
 "metadata": {
  "anaconda-cloud": {},
  "kernelspec": {
   "display_name": "Python 3",
   "language": "python",
   "name": "python3"
  },
  "language_info": {
   "codemirror_mode": {
    "name": "ipython",
    "version": 3
   },
   "file_extension": ".py",
   "mimetype": "text/x-python",
   "name": "python",
   "nbconvert_exporter": "python",
   "pygments_lexer": "ipython3",
   "version": "3.6.0"
  }
 },
 "nbformat": 4,
 "nbformat_minor": 1
}
