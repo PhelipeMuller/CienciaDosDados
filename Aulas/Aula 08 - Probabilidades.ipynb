{
 "cells": [
  {
   "cell_type": "markdown",
   "metadata": {},
   "source": [
    "# Aula 08\n",
    "\n",
    "**Referência de Leitura:**\n",
    "1. Magalhães e Lima (7ª. Edição): pág. 49 a 68 - Probabilidades\n",
    "\n",
    "**Hoje:**\n",
    "1. Conceito de Probabilidade\n",
    "4. Probabilidade Condicional\n",
    "3. Independência de eventos\n",
    "5. Teorema de Bayes. Simulação do problema de Monty Hall\n",
    "\n",
    "**Próxima aula:**\n",
    "1. Projeto 2"
   ]
  },
  {
   "cell_type": "code",
   "execution_count": 2,
   "metadata": {
    "collapsed": true
   },
   "outputs": [],
   "source": [
    "%matplotlib inline\n",
    "\n",
    "#Bibliotecas necessárias\n",
    "from numpy.random import shuffle, randint\n",
    "import pandas as pd"
   ]
  },
  {
   "cell_type": "markdown",
   "metadata": {},
   "source": [
    "1) Simule 10000 vezes o problema de Monty Hall¹, usar o seguinte algoritmo:\n",
    "\n",
    "* Zere um contador\n",
    "* Repetir 10000 vezes:\n",
    "    * crie uma lista com 2 cabras e um carro (simulando 3 portas).\n",
    "    * embaralhe (shuffle) a lista - vamos assumir que a pessoa sempre escolhe a porta 1.\n",
    "    * Se o carro estiver na porta 2:\n",
    "        * Abra a porta 3 (apague o 3o item).\n",
    "    * Se o carro estiver na porta 3:\n",
    "        * Abra a porta 2 (apague o 2o item).\n",
    "    * Caso contrário sorteie uma porta (2 ou 3) para para abrir (apagar).\n",
    "    \n",
    "    * Se na porta restante houver o carro, acrescente um no contator.\n",
    "\n",
    "* Exibir quantas vezes em 10000, a porta restante tinha o carro.\n",
    "\n",
    "Compare o resultado numérico com o resultado analítico obtido via Teorema de Bayes.\n",
    "\n",
    "¹https://en.wikipedia.org/wiki/Monty_Hall_problem"
   ]
  },
  {
   "cell_type": "code",
   "execution_count": 14,
   "metadata": {},
   "outputs": [
    {
     "name": "stdout",
     "output_type": "stream",
     "text": [
      "6640\n"
     ]
    }
   ],
   "source": [
    "c = 0\n",
    "Win = 0\n",
    "while c <=10000:\n",
    "    portas = [\"Cabra\",\"Cabra\",\"Carro\"]\n",
    "    shuffle(portas)\n",
    "    if portas[1] == \"Carro\": del(portas[2])\n",
    "    elif portas[2] == \"Carro\": del(portas[1])\n",
    "    else: del(portas[randint(1,3)])\n",
    "    \n",
    "    if portas[1] == \"Carro\": Win+=1\n",
    "    c+=1\n",
    "print(Win)"
   ]
  },
  {
   "cell_type": "markdown",
   "metadata": {},
   "source": [
    "2) Monte a simulação de 1000 jogadas de um dado idôneo de 6 faces. Faça o Grafico de Barras (normalizado) da frequência.\n",
    "\n",
    "    a) Olhando o Grafico de Barras, o que pode se dizer sobre as probabilidade de cada face?\n",
    "    \n",
    "    b) Discorra sobre o porque da probabilidade não ser exatamente igual à teórica."
   ]
  },
  {
   "cell_type": "code",
   "execution_count": 28,
   "metadata": {},
   "outputs": [
    {
     "name": "stdout",
     "output_type": "stream",
     "text": [
      "(s, a, i, d, a)    1000\n",
      "dtype: int64\n"
     ]
    }
   ],
   "source": [
    "c = 0\n",
    "resultado = []\n",
    "for i in range(0,1000,1):\n",
    "    resultado.append(randint(1,7))\n",
    "df = pd.DataFrame({'saida':resultado})\n",
    "print(pd.value_counts(df))"
   ]
  },
  {
   "cell_type": "markdown",
   "metadata": {},
   "source": [
    "2) Ampliando o espaço amostral para as possíveis jogadas de 2 dados, analise as seguintes situações:\n",
    "    \n",
    "    a) Jogando os dois dados ao mesmo tempo. Qual é a probabilidade de obter soma 7?\n",
    "    \n",
    "    b) Jogando um dado e depois o segundo dado. Qual é a probabilidade de obter soma 7 já sabendo o resultado do primeiro?"
   ]
  },
  {
   "cell_type": "code",
   "execution_count": null,
   "metadata": {
    "collapsed": true
   },
   "outputs": [],
   "source": []
  }
 ],
 "metadata": {
  "anaconda-cloud": {},
  "kernelspec": {
   "display_name": "Python 3",
   "language": "python",
   "name": "python3"
  },
  "language_info": {
   "codemirror_mode": {
    "name": "ipython",
    "version": 3
   },
   "file_extension": ".py",
   "mimetype": "text/x-python",
   "name": "python",
   "nbconvert_exporter": "python",
   "pygments_lexer": "ipython3",
   "version": "3.6.0"
  }
 },
 "nbformat": 4,
 "nbformat_minor": 1
}
