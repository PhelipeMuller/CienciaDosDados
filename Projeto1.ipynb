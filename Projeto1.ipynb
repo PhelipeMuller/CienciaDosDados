{
 "cells": [
  {
   "cell_type": "code",
   "execution_count": 2,
   "metadata": {
    "collapsed": true
   },
   "outputs": [],
   "source": [
    "%matplotlib inline\n",
    "import pandas as pd\n",
    "import matplotlib.pyplot as plt\n",
    "import os"
   ]
  },
  {
   "cell_type": "code",
   "execution_count": 3,
   "metadata": {},
   "outputs": [
    {
     "name": "stdout",
     "output_type": "stream",
     "text": [
      "Esperamos trabalhar no diretório\n",
      "C:\\Users\\pheli\\OneDrive\\Documentos\n"
     ]
    }
   ],
   "source": [
    "print('Esperamos trabalhar no diretório')\n",
    "print(os.getcwd())"
   ]
  },
  {
   "cell_type": "code",
   "execution_count": 4,
   "metadata": {
    "collapsed": true
   },
   "outputs": [],
   "source": [
    "dados = pd.read_csv('DOM2015.csv')"
   ]
  },
  {
   "cell_type": "code",
   "execution_count": 5,
   "metadata": {
    "collapsed": true
   },
   "outputs": [],
   "source": [
    "dados1 = dados[((dados.UF<=35) & (dados.UF>= 31)) & ((dados.V0220 > 0) | (dados.V02272 > 0) | ((dados.V02273 == 1)| (dados.V02273 == 3)) | (dados.V02274 > 0)) & (((dados.V02424==1)|(dados.V02274 == 3)) | (dados.V02425 > 0) | (dados.V02426 > 0))]\n",
    "#dados (Região Sudeste & Que possua qualquer tipo de sinal de TV & Que possual qualquer tipo de sinal de Internet)"
   ]
  },
  {
   "cell_type": "code",
   "execution_count": 6,
   "metadata": {
    "collapsed": true,
    "scrolled": true
   },
   "outputs": [],
   "source": [
    "dados2 = dados1[[\"UF\",\"V0220\",\"V02272\",\"V02273\",\"V02274\",\"V02424\",\"V02425\",\"V02426\",\"V4622\"]]"
   ]
  },
  {
   "cell_type": "code",
   "execution_count": 7,
   "metadata": {
    "collapsed": true
   },
   "outputs": [],
   "source": [
    "dados2 = dados2.dropna(how='any')"
   ]
  },
  {
   "cell_type": "code",
   "execution_count": 8,
   "metadata": {
    "collapsed": true
   },
   "outputs": [],
   "source": [
    "dados3 = dados2"
   ]
  },
  {
   "cell_type": "code",
   "execution_count": 9,
   "metadata": {
    "collapsed": true
   },
   "outputs": [],
   "source": [
    "def MelhorTV(df):\n",
    "    if (df[\"V02272\"] == 1.0): return 3\n",
    "    elif(df[\"V02274\"] == 1.0): return 2\n",
    "    elif(df[\"V02273\"] == 1.0): return 1\n",
    "    else: return 0\n",
    "    \n",
    "def MelhorNET(df):\n",
    "    if (df[\"V02425\"] == 2): return 3\n",
    "    elif(df[\"V02424\"] == 2): return 2\n",
    "    elif(df[\"V02426\"] == 2): return 1\n",
    "    else: return 0"
   ]
  },
  {
   "cell_type": "code",
   "execution_count": 10,
   "metadata": {
    "collapsed": true
   },
   "outputs": [],
   "source": [
    "TV = dados3.apply(MelhorTV,axis=1)\n",
    "NET = dados3.apply(MelhorNET,axis=1)\n",
    "\n",
    "dados3[\"TV\"] = TV\n",
    "dados3[\"NET\"] = NET"
   ]
  },
  {
   "cell_type": "code",
   "execution_count": 11,
   "metadata": {},
   "outputs": [
    {
     "name": "stderr",
     "output_type": "stream",
     "text": [
      "C:\\Users\\pheli\\Anaconda3\\lib\\site-packages\\ipykernel\\__main__.py:2: SettingWithCopyWarning: \n",
      "A value is trying to be set on a copy of a slice from a DataFrame.\n",
      "Try using .loc[row_indexer,col_indexer] = value instead\n",
      "\n",
      "See the caveats in the documentation: http://pandas.pydata.org/pandas-docs/stable/indexing.html#indexing-view-versus-copy\n",
      "  from ipykernel import kernelapp as app\n",
      "C:\\Users\\pheli\\Anaconda3\\lib\\site-packages\\ipykernel\\__main__.py:3: SettingWithCopyWarning: \n",
      "A value is trying to be set on a copy of a slice from a DataFrame.\n",
      "Try using .loc[row_indexer,col_indexer] = value instead\n",
      "\n",
      "See the caveats in the documentation: http://pandas.pydata.org/pandas-docs/stable/indexing.html#indexing-view-versus-copy\n",
      "  app.launch_new_instance()\n"
     ]
    }
   ],
   "source": [
    "dados4 = dados2[[\"UF\",\"V4622\"]]\n",
    "dados4[\"TV\"] = dados3[\"TV\"]\n",
    "dados4[\"NET\"] = dados3[\"NET\"]"
   ]
  },
  {
   "cell_type": "code",
   "execution_count": 46,
   "metadata": {},
   "outputs": [],
   "source": [
    "ut1 = pd.crosstab(dados4.TV,dados4.NET,normalize=\"index\")"
   ]
  },
  {
   "cell_type": "code",
   "execution_count": null,
   "metadata": {},
   "outputs": [],
   "source": []
  },
  {
   "cell_type": "code",
   "execution_count": null,
   "metadata": {},
   "outputs": [],
   "source": []
  },
  {
   "cell_type": "code",
   "execution_count": 59,
   "metadata": {
    "scrolled": true
   },
   "outputs": [
    {
     "data": {
      "text/plain": [
       "<matplotlib.text.Text at 0x15464702198>"
      ]
     },
     "execution_count": 59,
     "metadata": {},
     "output_type": "execute_result"
    },
    {
     "data": {
      "image/png": "[encoded data removed]",
      "text/plain": [
       "<matplotlib.figure.Figure at 0x1546470fa20>"
      ]
     },
     "metadata": {},
     "output_type": "display_data"
    }
   ],
   "source": [
    "plot = ut1.plot(kind='bar',title='Grafico 1',figsize=(6, 6),color=('b','g','r'),stacked=True)\n",
    "plt.ylabel('Freq Relativa')\n",
    "plt.xlabel('Tipo de TV')"
   ]
  },
  {
   "cell_type": "code",
   "execution_count": 67,
   "metadata": {},
   "outputs": [
    {
     "data": {
      "image/png": "[encoded data removed]",
      "text/plain": [
       "<matplotlib.figure.Figure at 0x1546551cdd8>"
      ]
     },
     "metadata": {},
     "output_type": "display_data"
    }
   ],
   "source": [
    "ddados3 = dados3[(dados3.V4622 < 50)]\n",
    "utt = ddados3[\"V4622\"]\n",
    "plot = utt.plot(kind='hist',bins=10,title='Grafico 2',figsize=(6, 6))\n"
   ]
  },
  {
   "cell_type": "code",
   "execution_count": null,
   "metadata": {
    "collapsed": true
   },
   "outputs": [],
   "source": []
  },
  {
   "cell_type": "code",
   "execution_count": null,
   "metadata": {
    "collapsed": true
   },
   "outputs": [],
   "source": []
  },
  {
   "cell_type": "code",
   "execution_count": null,
   "metadata": {
    "collapsed": true
   },
   "outputs": [],
   "source": []
  },
  {
   "cell_type": "code",
   "execution_count": null,
   "metadata": {
    "collapsed": true
   },
   "outputs": [],
   "source": []
  },
  {
   "cell_type": "code",
   "execution_count": null,
   "metadata": {
    "collapsed": true
   },
   "outputs": [],
   "source": []
  },
  {
   "cell_type": "code",
   "execution_count": null,
   "metadata": {
    "collapsed": true
   },
   "outputs": [],
   "source": []
  },
  {
   "cell_type": "code",
   "execution_count": null,
   "metadata": {
    "collapsed": true
   },
   "outputs": [],
   "source": []
  },
  {
   "cell_type": "code",
   "execution_count": null,
   "metadata": {
    "collapsed": true
   },
   "outputs": [],
   "source": []
  },
  {
   "cell_type": "code",
   "execution_count": null,
   "metadata": {
    "collapsed": true
   },
   "outputs": [],
   "source": []
  },
  {
   "cell_type": "code",
   "execution_count": null,
   "metadata": {
    "collapsed": true
   },
   "outputs": [],
   "source": [
    "dados1.UF = dados1.UF.astype(\"category\") #Distrido Federal\n",
    "dados1.V0220 = dados1.V0220.astype(\"category\") #Celular\n",
    "dados1.V02272 = dados1.V02272.astype(\"category\") # TV por Assinatura\n",
    "dados1.V02273 = dados1.V02273.astype(\"category\") # TV Aberta \n",
    "dados1.V02274 = dados1.V02274.astype(\"category\") # TV Antena\n",
    "dados1.V02424 = dados1.V02424.astype(\"category\") #INTERNET 3G/4G\n",
    "dados1.V02425 = dados1.V02425.astype(\"category\") #INTERNET DISCADA\n",
    "dados1.V02426 = dados1.V02426.astype(\"category\") #INTERNET BANDA LARGA\n",
    "dados1.V4622 = dados1.V4622.astype(\"category\") #FAIXA DE RENDA per Capta\n",
    "\n",
    "\n",
    "\n",
    "dados1.V0220.cat.categories=([\"Sim\",\"Não\"]) #CELULAR\n",
    "dados1.V02272.cat.categories=([\"Com acesso\",\"Sem acesso\"]) #TV ASSINATURA\n",
    "dados1.V02273.cat.categories=([\"Com acesso\",\"Sem acesso\",\"Eu não devia ta aqui\"]) #TV ABERTA\n",
    "dados1.V02274.cat.categories=([\"Com acesso\",\"Sem acesso\",\"Eu não devia ta aqui\"]) #TV ANTENA\n",
    "dados1.V02424.cat.categories=([\"Com acesso\",\"Sem acesso\"]) #INTERNET 3G/4G\n",
    "dados1.V02425.cat.categories=([\"Com acesso\",\"Sem acesso\"]) #INTERNET DISCADA\n",
    "dados1.V02426.cat.categories=([\"Com acesso\",\"Sem acesso\"]) #INTERNET BANDA LARGA\n",
    "dados1.V4622.cat.categories=([\"0\",\"0.25\",\"0.5\",\"1\",\"2\",\"3\",\"5\",\">5\",\"Eu não devia ta aqui\"]) #FAIXA DE RENDA per Capta"
   ]
  },
  {
   "cell_type": "code",
   "execution_count": null,
   "metadata": {
    "collapsed": true
   },
   "outputs": [],
   "source": []
  },
  {
   "cell_type": "code",
   "execution_count": null,
   "metadata": {
    "collapsed": true
   },
   "outputs": [],
   "source": []
  },
  {
   "cell_type": "code",
   "execution_count": null,
   "metadata": {
    "collapsed": true
   },
   "outputs": [],
   "source": []
  },
  {
   "cell_type": "code",
   "execution_count": null,
   "metadata": {
    "collapsed": true
   },
   "outputs": [],
   "source": []
  }
 ],
 "metadata": {
  "kernelspec": {
   "display_name": "Python 3",
   "language": "python",
   "name": "python3"
  },
  "language_info": {
   "codemirror_mode": {
    "name": "ipython",
    "version": 3
   },
   "file_extension": ".py",
   "mimetype": "text/x-python",
   "name": "python",
   "nbconvert_exporter": "python",
   "pygments_lexer": "ipython3",
   "version": "3.6.0"
  }
 },
 "nbformat": 4,
 "nbformat_minor": 2
}
